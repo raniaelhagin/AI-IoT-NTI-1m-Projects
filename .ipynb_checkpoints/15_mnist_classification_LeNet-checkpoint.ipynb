{
 "cells": [
  {
   "cell_type": "code",
   "execution_count": 1,
   "id": "a7280e46",
   "metadata": {
    "id": "a7280e46"
   },
   "outputs": [],
   "source": [
    "from IPython.display import display\n",
    "import pandas as pd\n",
    "import numpy as np\n",
    "import matplotlib.pyplot as plt\n",
    "import seaborn as sns\n",
    "\n",
    "from sklearn.model_selection import train_test_split\n",
    "\n",
    "\n",
    "from keras.models import Sequential, load_model\n",
    "from keras.layers import Input, Dense, Conv2D, MaxPooling2D, Flatten, AveragePooling2D\n",
    "from keras.datasets import mnist"
   ]
  },
  {
   "cell_type": "code",
   "execution_count": 2,
   "id": "ece7314e",
   "metadata": {
    "colab": {
     "base_uri": "https://localhost:8080/"
    },
    "id": "ece7314e",
    "outputId": "5d19b097-d359-4a94-f9bb-693604fa7ee7"
   },
   "outputs": [],
   "source": [
    "(X_train, y_train), (X_test, y_test) = mnist.load_data()"
   ]
  },
  {
   "cell_type": "code",
   "execution_count": 3,
   "id": "26b3f8b2",
   "metadata": {
    "colab": {
     "base_uri": "https://localhost:8080/"
    },
    "id": "26b3f8b2",
    "outputId": "526ce268-2ec6-49ad-8949-2e9556f565dd"
   },
   "outputs": [
    {
     "data": {
      "text/plain": [
       "(60000, 28, 28)"
      ]
     },
     "execution_count": 3,
     "metadata": {},
     "output_type": "execute_result"
    }
   ],
   "source": [
    "X_train.shape "
   ]
  },
  {
   "cell_type": "code",
   "execution_count": 4,
   "id": "0e8f6b57",
   "metadata": {
    "colab": {
     "base_uri": "https://localhost:8080/"
    },
    "id": "0e8f6b57",
    "outputId": "126ab6c1-b708-4454-d21e-fce942cc872e"
   },
   "outputs": [
    {
     "data": {
      "text/plain": [
       "(60000,)"
      ]
     },
     "execution_count": 4,
     "metadata": {},
     "output_type": "execute_result"
    }
   ],
   "source": [
    "y_train.shape"
   ]
  },
  {
   "cell_type": "code",
   "execution_count": 5,
   "id": "418f3d1c",
   "metadata": {
    "colab": {
     "base_uri": "https://localhost:8080/"
    },
    "id": "418f3d1c",
    "outputId": "7da51e3c-95b7-40df-a913-7582a25d1941"
   },
   "outputs": [
    {
     "data": {
      "text/plain": [
       "(10000, 28, 28)"
      ]
     },
     "execution_count": 5,
     "metadata": {},
     "output_type": "execute_result"
    }
   ],
   "source": [
    "X_test.shape"
   ]
  },
  {
   "cell_type": "code",
   "execution_count": 6,
   "id": "7c065e96",
   "metadata": {
    "colab": {
     "base_uri": "https://localhost:8080/"
    },
    "id": "7c065e96",
    "outputId": "e1f668bb-eb99-4729-ae13-2a9310b65010"
   },
   "outputs": [
    {
     "data": {
      "text/plain": [
       "(10000,)"
      ]
     },
     "execution_count": 6,
     "metadata": {},
     "output_type": "execute_result"
    }
   ],
   "source": [
    "y_test.shape"
   ]
  },
  {
   "cell_type": "markdown",
   "id": "4981ef7f",
   "metadata": {
    "id": "4981ef7f"
   },
   "source": [
    "### Data Preprocessing"
   ]
  },
  {
   "cell_type": "code",
   "execution_count": 7,
   "id": "40667455",
   "metadata": {
    "id": "40667455"
   },
   "outputs": [],
   "source": [
    "# Normalize images \n",
    "X_train = X_train / 255\n",
    "X_test = X_test / 255"
   ]
  },
  {
   "cell_type": "code",
   "execution_count": 8,
   "id": "KcKtEe9LEkLz",
   "metadata": {
    "colab": {
     "base_uri": "https://localhost:8080/"
    },
    "id": "KcKtEe9LEkLz",
    "outputId": "e7a4f3c0-59ee-4ac7-aee4-c65dd6ed2933"
   },
   "outputs": [
    {
     "data": {
      "text/plain": [
       "(28, 28)"
      ]
     },
     "execution_count": 8,
     "metadata": {},
     "output_type": "execute_result"
    }
   ],
   "source": [
    "X_train[0].shape"
   ]
  },
  {
   "cell_type": "markdown",
   "id": "9f3662fc",
   "metadata": {
    "id": "9f3662fc"
   },
   "source": [
    "### Modelling"
   ]
  },
  {
   "cell_type": "code",
   "execution_count": 9,
   "id": "f3a008c3",
   "metadata": {
    "colab": {
     "base_uri": "https://localhost:8080/"
    },
    "id": "f3a008c3",
    "outputId": "ee489c77-12e3-4c66-a118-54479b439b25"
   },
   "outputs": [
    {
     "name": "stdout",
     "output_type": "stream",
     "text": [
      "Model: \"sequential\"\n",
      "_________________________________________________________________\n",
      " Layer (type)                Output Shape              Param #   \n",
      "=================================================================\n",
      " conv2d (Conv2D)             (None, 28, 28, 6)         156       \n",
      "                                                                 \n",
      " average_pooling2d (AverageP  (None, 14, 14, 6)        0         \n",
      " ooling2D)                                                       \n",
      "                                                                 \n",
      " conv2d_1 (Conv2D)           (None, 10, 10, 16)        2416      \n",
      "                                                                 \n",
      " average_pooling2d_1 (Averag  (None, 5, 5, 16)         0         \n",
      " ePooling2D)                                                     \n",
      "                                                                 \n",
      " conv2d_2 (Conv2D)           (None, 1, 1, 120)         48120     \n",
      "                                                                 \n",
      " dense (Dense)               (None, 1, 1, 84)          10164     \n",
      "                                                                 \n",
      " dense_1 (Dense)             (None, 1, 1, 10)          850       \n",
      "                                                                 \n",
      "=================================================================\n",
      "Total params: 61,706\n",
      "Trainable params: 61,706\n",
      "Non-trainable params: 0\n",
      "_________________________________________________________________\n"
     ]
    }
   ],
   "source": [
    "model = Sequential()\n",
    "\n",
    "# conv layer 1\n",
    "model.add(Conv2D(filters=6, kernel_size=5, strides=(1, 1), padding=\"same\", activation='tanh', input_shape=(28, 28, 1)))\n",
    "\n",
    "# pooling 1\n",
    "model.add(AveragePooling2D(pool_size=(2, 2), strides=(2, 2)))\n",
    "\n",
    "# conv layer 2\n",
    "model.add(Conv2D(filters=16, kernel_size=(5, 5), strides=(1, 1), activation='tanh'))\n",
    "\n",
    "# pooling 2\n",
    "model.add(AveragePooling2D(pool_size=(2, 2), strides=(2, 2)))\n",
    "\n",
    "# conv layer 3\n",
    "model.add(Conv2D(filters=120, kernel_size=(5, 5), strides=(1, 1), activation='tanh'))\n",
    "\n",
    "# Fully Conncted NN \n",
    "model.add(Dense(84, activation='tanh'))\n",
    "\n",
    "# output layer \n",
    "model.add(Dense(10, activation='softmax'))\n",
    "\n",
    "model.summary()"
   ]
  },
  {
   "cell_type": "code",
   "execution_count": 10,
   "id": "ec39d352",
   "metadata": {
    "id": "ec39d352"
   },
   "outputs": [],
   "source": [
    "model.compile(loss=\"SparseCategoricalCrossentropy\", optimizer=\"Adam\", metrics=[\"accuracy\"])"
   ]
  },
  {
   "cell_type": "code",
   "execution_count": 11,
   "id": "7077bdf5",
   "metadata": {
    "colab": {
     "base_uri": "https://localhost:8080/"
    },
    "id": "7077bdf5",
    "outputId": "752f72bd-3f59-45f3-ad9f-7fc878ca11ef"
   },
   "outputs": [
    {
     "name": "stdout",
     "output_type": "stream",
     "text": [
      "Epoch 1/25\n",
      "1875/1875 [==============================] - 85s 44ms/step - loss: 0.2278 - accuracy: 0.1263 - val_loss: 0.0992 - val_accuracy: 0.1224\n",
      "Epoch 2/25\n",
      "1875/1875 [==============================] - 93s 50ms/step - loss: 0.0845 - accuracy: 0.1277 - val_loss: 0.0792 - val_accuracy: 0.1224\n",
      "Epoch 3/25\n",
      "1875/1875 [==============================] - 108s 57ms/step - loss: 0.0567 - accuracy: 0.1274 - val_loss: 0.0560 - val_accuracy: 0.1225\n",
      "Epoch 4/25\n",
      "1875/1875 [==============================] - 109s 58ms/step - loss: 0.0419 - accuracy: 0.1281 - val_loss: 0.0520 - val_accuracy: 0.1226\n",
      "Epoch 5/25\n",
      "1875/1875 [==============================] - 93s 49ms/step - loss: 0.0354 - accuracy: 0.1278 - val_loss: 0.0705 - val_accuracy: 0.1226\n",
      "Epoch 6/25\n",
      "1875/1875 [==============================] - 70s 37ms/step - loss: 0.0301 - accuracy: 0.1277 - val_loss: 0.0548 - val_accuracy: 0.1228\n",
      "Epoch 7/25\n",
      "1875/1875 [==============================] - 92s 49ms/step - loss: 0.0225 - accuracy: 0.1281 - val_loss: 0.0551 - val_accuracy: 0.1227\n",
      "Epoch 8/25\n",
      "1875/1875 [==============================] - 91s 49ms/step - loss: 0.0208 - accuracy: 0.1283 - val_loss: 0.0479 - val_accuracy: 0.1227\n",
      "Epoch 9/25\n",
      "1875/1875 [==============================] - 97s 52ms/step - loss: 0.0165 - accuracy: 0.1283 - val_loss: 0.0470 - val_accuracy: 0.1228\n",
      "Epoch 10/25\n",
      "1875/1875 [==============================] - 88s 47ms/step - loss: 0.0155 - accuracy: 0.1279 - val_loss: 0.0537 - val_accuracy: 0.1229\n",
      "Epoch 11/25\n",
      "1875/1875 [==============================] - 73s 39ms/step - loss: 0.0140 - accuracy: 0.1282 - val_loss: 0.0471 - val_accuracy: 0.1228\n",
      "Epoch 12/25\n",
      "1875/1875 [==============================] - 96s 51ms/step - loss: 0.0120 - accuracy: 0.1280 - val_loss: 0.0559 - val_accuracy: 0.1228\n",
      "Epoch 13/25\n",
      "1875/1875 [==============================] - 96s 51ms/step - loss: 0.0106 - accuracy: 0.1281 - val_loss: 0.0563 - val_accuracy: 0.1229\n",
      "Epoch 14/25\n",
      "1875/1875 [==============================] - 108s 58ms/step - loss: 0.0104 - accuracy: 0.1282 - val_loss: 0.0539 - val_accuracy: 0.1229\n",
      "Epoch 15/25\n",
      "1875/1875 [==============================] - 97s 52ms/step - loss: 0.0112 - accuracy: 0.1287 - val_loss: 0.0481 - val_accuracy: 0.1228\n",
      "Epoch 16/25\n",
      "1875/1875 [==============================] - 77s 41ms/step - loss: 0.0082 - accuracy: 0.1285 - val_loss: 0.0505 - val_accuracy: 0.1228\n",
      "Epoch 17/25\n",
      "1875/1875 [==============================] - 89s 47ms/step - loss: 0.0083 - accuracy: 0.1282 - val_loss: 0.0518 - val_accuracy: 0.1228\n",
      "Epoch 18/25\n",
      "1875/1875 [==============================] - 83s 44ms/step - loss: 0.0085 - accuracy: 0.1282 - val_loss: 0.0519 - val_accuracy: 0.1228\n",
      "Epoch 19/25\n",
      "1875/1875 [==============================] - 74s 39ms/step - loss: 0.0069 - accuracy: 0.1284 - val_loss: 0.0600 - val_accuracy: 0.1228\n",
      "Epoch 20/25\n",
      "1875/1875 [==============================] - 79s 42ms/step - loss: 0.0078 - accuracy: 0.1280 - val_loss: 0.0544 - val_accuracy: 0.1228\n",
      "Epoch 21/25\n",
      "1875/1875 [==============================] - 96s 51ms/step - loss: 0.0078 - accuracy: 0.1277 - val_loss: 0.0537 - val_accuracy: 0.1228\n",
      "Epoch 22/25\n",
      "1875/1875 [==============================] - 99s 53ms/step - loss: 0.0069 - accuracy: 0.1284 - val_loss: 0.0573 - val_accuracy: 0.1229\n",
      "Epoch 23/25\n",
      "1875/1875 [==============================] - 95s 51ms/step - loss: 0.0063 - accuracy: 0.1288 - val_loss: 0.0523 - val_accuracy: 0.1227\n",
      "Epoch 24/25\n",
      "1875/1875 [==============================] - 86s 46ms/step - loss: 0.0063 - accuracy: 0.1286 - val_loss: 0.0585 - val_accuracy: 0.1228\n",
      "Epoch 25/25\n",
      "1875/1875 [==============================] - 65s 35ms/step - loss: 0.0063 - accuracy: 0.1283 - val_loss: 0.0556 - val_accuracy: 0.1228\n"
     ]
    }
   ],
   "source": [
    "result = model.fit(X_train, y_train, verbose=1, epochs=25, validation_data=(X_test, y_test))"
   ]
  },
  {
   "cell_type": "code",
   "execution_count": 12,
   "id": "716ad17a",
   "metadata": {
    "id": "716ad17a"
   },
   "outputs": [
    {
     "data": {
      "image/png": "[encoded data removed]",
      "text/plain": [
       "<Figure size 640x480 with 1 Axes>"
      ]
     },
     "metadata": {},
     "output_type": "display_data"
    }
   ],
   "source": [
    "plt.plot(result.history[\"loss\"])\n",
    "plt.plot(result.history[\"val_loss\"])\n",
    "plt.title(\"Model Loss\")\n",
    "plt.ylabel(\"Loss\")\n",
    "plt.xlabel(\"Epoch\")\n",
    "plt.legend([\"Train\", \"Test\"], loc=\"upper right\")\n",
    "plt.show()"
   ]
  },
  {
   "cell_type": "code",
   "execution_count": 13,
   "id": "a7b94b59",
   "metadata": {
    "id": "a7b94b59"
   },
   "outputs": [
    {
     "data": {
      "image/png": "[encoded data removed]",
      "text/plain": [
       "<Figure size 640x480 with 1 Axes>"
      ]
     },
     "metadata": {},
     "output_type": "display_data"
    }
   ],
   "source": [
    "plt.plot(result.history[\"accuracy\"])\n",
    "plt.plot(result.history[\"val_accuracy\"])\n",
    "plt.title(\"Model Accuracy\")\n",
    "plt.ylabel(\"Accuuracy\")\n",
    "plt.xlabel(\"Epoch\")\n",
    "plt.legend([\"Train\", \"Test\"], loc=\"upper right\")\n",
    "plt.show()"
   ]
  },
  {
   "cell_type": "code",
   "execution_count": 14,
   "id": "f6fb9896",
   "metadata": {
    "id": "f6fb9896"
   },
   "outputs": [],
   "source": [
    "model.save(\"mnist_classification_model_CNN.h5\")"
   ]
  },
  {
   "cell_type": "code",
   "execution_count": 15,
   "id": "d10653a3",
   "metadata": {
    "id": "d10653a3"
   },
   "outputs": [],
   "source": [
    "my_model = load_model(\"mnist_classification_model_CNN.h5\")\n"
   ]
  },
  {
   "cell_type": "code",
   "execution_count": null,
   "id": "c5ac3c6f",
   "metadata": {
    "id": "c5ac3c6f"
   },
   "outputs": [],
   "source": []
  }
 ],
 "metadata": {
  "accelerator": "GPU",
  "colab": {
   "gpuType": "T4",
   "provenance": []
  },
  "kernelspec": {
   "display_name": "Python 3 (ipykernel)",
   "language": "python",
   "name": "python3"
  },
  "language_info": {
   "codemirror_mode": {
    "name": "ipython",
    "version": 3
   },
   "file_extension": ".py",
   "mimetype": "text/x-python",
   "name": "python",
   "nbconvert_exporter": "python",
   "pygments_lexer": "ipython3",
   "version": "3.9.12"
  }
 },
 "nbformat": 4,
 "nbformat_minor": 5
}
