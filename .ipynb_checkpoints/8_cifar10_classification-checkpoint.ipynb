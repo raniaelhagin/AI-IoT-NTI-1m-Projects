{
 "cells": [
  {
   "cell_type": "code",
   "execution_count": 1,
   "id": "adfa641e",
   "metadata": {},
   "outputs": [],
   "source": [
    "from IPython.display import display\n",
    "import pandas as pd\n",
    "import numpy as np\n",
    "import matplotlib.pyplot as plt\n",
    "import seaborn as sns\n",
    "\n",
    "from sklearn.compose import make_column_transformer\n",
    "from sklearn.preprocessing import StandardScaler\n",
    "\n",
    "from sklearn.model_selection import train_test_split\n",
    "from sklearn.linear_model import LinearRegression\n",
    "from sklearn.tree import DecisionTreeRegressor\n",
    "from sklearn.ensemble import RandomForestRegressor\n",
    "from sklearn.svm import SVC\n",
    "\n",
    "from sklearn.metrics import r2_score\n",
    "\n",
    "from tensorflow.keras.optimizers import Adam\n",
    "from tensorflow.keras.losses import BinaryCrossentropy, MeanAbsoluteError\n",
    "from keras.models import Sequential\n",
    "from keras.layers import Dense \n",
    "from keras import backend as K\n",
    "from keras.datasets import mnist"
   ]
  },
  {
   "cell_type": "code",
   "execution_count": 4,
   "id": "eac00420",
   "metadata": {},
   "outputs": [],
   "source": [
    "(X_train, y_train), (X_test, y_test) = mnist.load_data()"
   ]
  },
  {
   "cell_type": "code",
   "execution_count": 5,
   "id": "efc926c4",
   "metadata": {},
   "outputs": [
    {
     "data": {
      "text/plain": [
       "(60000, 28, 28)"
      ]
     },
     "execution_count": 5,
     "metadata": {},
     "output_type": "execute_result"
    }
   ],
   "source": [
    "X_train.shape "
   ]
  },
  {
   "cell_type": "code",
   "execution_count": 6,
   "id": "43c91edd",
   "metadata": {},
   "outputs": [
    {
     "data": {
      "text/plain": [
       "(60000,)"
      ]
     },
     "execution_count": 6,
     "metadata": {},
     "output_type": "execute_result"
    }
   ],
   "source": [
    "y_train.shape"
   ]
  },
  {
   "cell_type": "code",
   "execution_count": 7,
   "id": "45799112",
   "metadata": {},
   "outputs": [
    {
     "data": {
      "text/plain": [
       "(10000, 28, 28)"
      ]
     },
     "execution_count": 7,
     "metadata": {},
     "output_type": "execute_result"
    }
   ],
   "source": [
    "X_test.shape"
   ]
  },
  {
   "cell_type": "code",
   "execution_count": 8,
   "id": "3f82a3f9",
   "metadata": {},
   "outputs": [
    {
     "data": {
      "text/plain": [
       "(10000,)"
      ]
     },
     "execution_count": 8,
     "metadata": {},
     "output_type": "execute_result"
    }
   ],
   "source": [
    "y_test.shape"
   ]
  },
  {
   "cell_type": "markdown",
   "id": "30bca2e5",
   "metadata": {},
   "source": [
    "### Data Preprocessing"
   ]
  },
  {
   "cell_type": "code",
   "execution_count": 10,
   "id": "8e4525b5",
   "metadata": {},
   "outputs": [],
   "source": [
    "# Normalize and reeshape images \n",
    "X_train_final = X_train.reshape(-1, 28*28) / 255\n",
    "X_test_final = X_test.reshape(-1, 28*28) / 255"
   ]
  },
  {
   "cell_type": "code",
   "execution_count": 11,
   "id": "973f0c4f",
   "metadata": {},
   "outputs": [
    {
     "data": {
      "text/plain": [
       "(60000, 784)"
      ]
     },
     "execution_count": 11,
     "metadata": {},
     "output_type": "execute_result"
    }
   ],
   "source": [
    "X_train_final.shape"
   ]
  },
  {
   "cell_type": "markdown",
   "id": "e98ef903",
   "metadata": {},
   "source": [
    "### Modelling"
   ]
  },
  {
   "cell_type": "code",
   "execution_count": 12,
   "id": "e6d8cae5",
   "metadata": {},
   "outputs": [
    {
     "name": "stdout",
     "output_type": "stream",
     "text": [
      "Model: \"sequential\"\n",
      "_________________________________________________________________\n",
      " Layer (type)                Output Shape              Param #   \n",
      "=================================================================\n",
      " dense (Dense)               (None, 512)               401920    \n",
      "                                                                 \n",
      " dense_1 (Dense)             (None, 128)               65664     \n",
      "                                                                 \n",
      " dense_2 (Dense)             (None, 10)                1290      \n",
      "                                                                 \n",
      "=================================================================\n",
      "Total params: 468,874\n",
      "Trainable params: 468,874\n",
      "Non-trainable params: 0\n",
      "_________________________________________________________________\n"
     ]
    }
   ],
   "source": [
    "model = Sequential()\n",
    "model.add(Dense(512, input_dim=784, activation='relu'))\n",
    "model.add(Dense(128, activation='relu'))\n",
    "model.add(Dense(10, activation='softmax'))\n",
    "model.summary()"
   ]
  },
  {
   "cell_type": "code",
   "execution_count": 14,
   "id": "4351066c",
   "metadata": {},
   "outputs": [],
   "source": [
    "model.compile(loss=\"SparseCategoricalCrossentropy\", optimizer=\"Adam\", metrics=[\"accuracy\"])"
   ]
  },
  {
   "cell_type": "code",
   "execution_count": null,
   "id": "f4621e03",
   "metadata": {},
   "outputs": [
    {
     "name": "stdout",
     "output_type": "stream",
     "text": [
      "Epoch 1/50\n",
      "1875/1875 [==============================] - 43s 22ms/step - loss: 0.1890 - accuracy: 0.9428 - val_loss: 0.0918 - val_accuracy: 0.9698\n",
      "Epoch 2/50\n",
      "1875/1875 [==============================] - 50s 27ms/step - loss: 0.0774 - accuracy: 0.9761 - val_loss: 0.0853 - val_accuracy: 0.9726\n",
      "Epoch 3/50\n",
      "1875/1875 [==============================] - 57s 30ms/step - loss: 0.0533 - accuracy: 0.9831 - val_loss: 0.0789 - val_accuracy: 0.9757\n",
      "Epoch 4/50\n",
      "1875/1875 [==============================] - 49s 26ms/step - loss: 0.0415 - accuracy: 0.9862 - val_loss: 0.0726 - val_accuracy: 0.9779\n",
      "Epoch 5/50\n",
      "1875/1875 [==============================] - 37s 20ms/step - loss: 0.0327 - accuracy: 0.9896 - val_loss: 0.0753 - val_accuracy: 0.9798\n",
      "Epoch 6/50\n",
      "1875/1875 [==============================] - 37s 20ms/step - loss: 0.0263 - accuracy: 0.9914 - val_loss: 0.0912 - val_accuracy: 0.9751\n",
      "Epoch 7/50\n",
      "1875/1875 [==============================] - 34s 18ms/step - loss: 0.0237 - accuracy: 0.9922 - val_loss: 0.0926 - val_accuracy: 0.9753\n",
      "Epoch 8/50\n",
      "1875/1875 [==============================] - 54s 29ms/step - loss: 0.0181 - accuracy: 0.9944 - val_loss: 0.0790 - val_accuracy: 0.9789\n",
      "Epoch 9/50\n",
      "1875/1875 [==============================] - 46s 25ms/step - loss: 0.0190 - accuracy: 0.9936 - val_loss: 0.0700 - val_accuracy: 0.9839\n",
      "Epoch 10/50\n",
      "1875/1875 [==============================] - 45s 24ms/step - loss: 0.0158 - accuracy: 0.9948 - val_loss: 0.0930 - val_accuracy: 0.9792\n",
      "Epoch 11/50\n",
      "1875/1875 [==============================] - 45s 24ms/step - loss: 0.0151 - accuracy: 0.9952 - val_loss: 0.1050 - val_accuracy: 0.9793\n",
      "Epoch 12/50\n",
      "1875/1875 [==============================] - 50s 27ms/step - loss: 0.0139 - accuracy: 0.9955 - val_loss: 0.1046 - val_accuracy: 0.9780\n",
      "Epoch 13/50\n",
      "1875/1875 [==============================] - 68s 36ms/step - loss: 0.0133 - accuracy: 0.9957 - val_loss: 0.1022 - val_accuracy: 0.9791\n",
      "Epoch 14/50\n",
      "1875/1875 [==============================] - 48s 26ms/step - loss: 0.0132 - accuracy: 0.9958 - val_loss: 0.0941 - val_accuracy: 0.9817\n",
      "Epoch 15/50\n",
      "1875/1875 [==============================] - 45s 24ms/step - loss: 0.0107 - accuracy: 0.9967 - val_loss: 0.1062 - val_accuracy: 0.9809\n",
      "Epoch 16/50\n",
      "1875/1875 [==============================] - 50s 27ms/step - loss: 0.0097 - accuracy: 0.9971 - val_loss: 0.1051 - val_accuracy: 0.9829\n",
      "Epoch 17/50\n",
      "1875/1875 [==============================] - 40s 21ms/step - loss: 0.0120 - accuracy: 0.9966 - val_loss: 0.0958 - val_accuracy: 0.9813\n",
      "Epoch 18/50\n",
      "1875/1875 [==============================] - 46s 25ms/step - loss: 0.0077 - accuracy: 0.9976 - val_loss: 0.0970 - val_accuracy: 0.9839\n",
      "Epoch 19/50\n",
      "1875/1875 [==============================] - 62s 33ms/step - loss: 0.0129 - accuracy: 0.9965 - val_loss: 0.1486 - val_accuracy: 0.9769\n",
      "Epoch 20/50\n",
      "1875/1875 [==============================] - 68s 36ms/step - loss: 0.0084 - accuracy: 0.9973 - val_loss: 0.1105 - val_accuracy: 0.9824\n",
      "Epoch 21/50\n",
      "1875/1875 [==============================] - 50s 27ms/step - loss: 0.0103 - accuracy: 0.9971 - val_loss: 0.1175 - val_accuracy: 0.9810\n",
      "Epoch 22/50\n",
      "1875/1875 [==============================] - 37s 20ms/step - loss: 0.0081 - accuracy: 0.9976 - val_loss: 0.1199 - val_accuracy: 0.9816\n",
      "Epoch 23/50\n",
      "1875/1875 [==============================] - 46s 24ms/step - loss: 0.0110 - accuracy: 0.9969 - val_loss: 0.1117 - val_accuracy: 0.9832\n",
      "Epoch 24/50\n",
      "1875/1875 [==============================] - 44s 23ms/step - loss: 0.0038 - accuracy: 0.9989 - val_loss: 0.1372 - val_accuracy: 0.9820\n",
      "Epoch 25/50\n",
      "1875/1875 [==============================] - 45s 24ms/step - loss: 0.0116 - accuracy: 0.9972 - val_loss: 0.1558 - val_accuracy: 0.9790\n",
      "Epoch 26/50\n",
      "1875/1875 [==============================] - 65s 35ms/step - loss: 0.0107 - accuracy: 0.9975 - val_loss: 0.2031 - val_accuracy: 0.9760\n",
      "Epoch 27/50\n",
      "1875/1875 [==============================] - 49s 26ms/step - loss: 0.0079 - accuracy: 0.9980 - val_loss: 0.1399 - val_accuracy: 0.9830\n",
      "Epoch 28/50\n",
      "1875/1875 [==============================] - 49s 26ms/step - loss: 0.0088 - accuracy: 0.9980 - val_loss: 0.1725 - val_accuracy: 0.9796\n",
      "Epoch 29/50\n",
      "1875/1875 [==============================] - 52s 28ms/step - loss: 0.0095 - accuracy: 0.9979 - val_loss: 0.1505 - val_accuracy: 0.9810\n",
      "Epoch 30/50\n",
      "1280/1875 [===================>..........] - ETA: 19s - loss: 0.0066 - accuracy: 0.9981"
     ]
    }
   ],
   "source": [
    "result = model.fit(X_train_final, y_train, verbose=1, epochs=50, validation_data=(X_test_final, y_test))"
   ]
  },
  {
   "cell_type": "code",
   "execution_count": null,
   "id": "cde7f5da",
   "metadata": {},
   "outputs": [],
   "source": [
    "plt.plot(result.history[\"loss\"])\n",
    "plt.plot(result.history[\"val_loss\"])\n",
    "plt.title(\"Model Loss\")\n",
    "plt.ylabel(\"Loss\")\n",
    "plt.xlabel(\"Epoch\")\n",
    "plt.legend([\"Train\", \"Test\"], loc=\"upper right\")\n",
    "plt.show()"
   ]
  },
  {
   "cell_type": "code",
   "execution_count": null,
   "id": "ad47f0b5",
   "metadata": {},
   "outputs": [],
   "source": [
    "plt.plot(result.history[\"accuracy\"])\n",
    "plt.plot(result.history[\"val_accuracy\"])\n",
    "plt.title(\"Model Accuracy\")\n",
    "plt.ylabel(\"Loss\")\n",
    "plt.xlabel(\"Accuracy\")\n",
    "plt.legend([\"Train\", \"Test\"], loc=\"upper right\")\n",
    "plt.show()"
   ]
  },
  {
   "cell_type": "code",
   "execution_count": null,
   "id": "5a50fe77",
   "metadata": {},
   "outputs": [],
   "source": [
    "model.save(\"mnist_classification.keras\")"
   ]
  }
 ],
 "metadata": {
  "kernelspec": {
   "display_name": "Python 3 (ipykernel)",
   "language": "python",
   "name": "python3"
  },
  "language_info": {
   "codemirror_mode": {
    "name": "ipython",
    "version": 3
   },
   "file_extension": ".py",
   "mimetype": "text/x-python",
   "name": "python",
   "nbconvert_exporter": "python",
   "pygments_lexer": "ipython3",
   "version": "3.9.12"
  }
 },
 "nbformat": 4,
 "nbformat_minor": 5
}
