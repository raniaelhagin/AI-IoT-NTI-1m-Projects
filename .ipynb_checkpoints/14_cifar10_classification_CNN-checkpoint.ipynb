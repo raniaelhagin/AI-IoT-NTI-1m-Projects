{
 "cells": [
  {
   "cell_type": "code",
   "execution_count": 1,
   "id": "a7280e46",
   "metadata": {
    "id": "a7280e46"
   },
   "outputs": [],
   "source": [
    "from IPython.display import display\n",
    "import pandas as pd\n",
    "import numpy as np\n",
    "import matplotlib.pyplot as plt\n",
    "import seaborn as sns\n",
    "\n",
    "from sklearn.model_selection import train_test_split\n",
    "\n",
    "from keras.models import Sequential, load_model\n",
    "from keras.layers import Input, Dense, Conv2D, MaxPooling2D, Flatten \n",
    "from keras.datasets import mnist"
   ]
  },
  {
   "cell_type": "code",
   "execution_count": 2,
   "id": "ece7314e",
   "metadata": {
    "id": "ece7314e"
   },
   "outputs": [],
   "source": [
    "(X_train, y_train), (X_test, y_test) = mnist.load_data()"
   ]
  },
  {
   "cell_type": "code",
   "execution_count": 3,
   "id": "26b3f8b2",
   "metadata": {
    "colab": {
     "base_uri": "https://localhost:8080/"
    },
    "id": "26b3f8b2",
    "outputId": "68112e85-4dea-4122-b63e-99d1137cf0cb"
   },
   "outputs": [
    {
     "data": {
      "text/plain": [
       "(60000, 28, 28)"
      ]
     },
     "execution_count": 3,
     "metadata": {},
     "output_type": "execute_result"
    }
   ],
   "source": [
    "X_train.shape "
   ]
  },
  {
   "cell_type": "code",
   "execution_count": 4,
   "id": "0e8f6b57",
   "metadata": {
    "colab": {
     "base_uri": "https://localhost:8080/"
    },
    "id": "0e8f6b57",
    "outputId": "c30b1af9-65c2-43bf-a83c-b914c591804a"
   },
   "outputs": [
    {
     "data": {
      "text/plain": [
       "(60000,)"
      ]
     },
     "execution_count": 4,
     "metadata": {},
     "output_type": "execute_result"
    }
   ],
   "source": [
    "y_train.shape"
   ]
  },
  {
   "cell_type": "code",
   "execution_count": 5,
   "id": "418f3d1c",
   "metadata": {
    "colab": {
     "base_uri": "https://localhost:8080/"
    },
    "id": "418f3d1c",
    "outputId": "2d57caae-6918-4268-ec73-8dadade8772a"
   },
   "outputs": [
    {
     "data": {
      "text/plain": [
       "(10000, 28, 28)"
      ]
     },
     "execution_count": 5,
     "metadata": {},
     "output_type": "execute_result"
    }
   ],
   "source": [
    "X_test.shape"
   ]
  },
  {
   "cell_type": "code",
   "execution_count": 6,
   "id": "7c065e96",
   "metadata": {
    "colab": {
     "base_uri": "https://localhost:8080/"
    },
    "id": "7c065e96",
    "outputId": "389a293c-7b78-49e8-cef4-6729b0d9f47b"
   },
   "outputs": [
    {
     "data": {
      "text/plain": [
       "(10000,)"
      ]
     },
     "execution_count": 6,
     "metadata": {},
     "output_type": "execute_result"
    }
   ],
   "source": [
    "y_test.shape"
   ]
  },
  {
   "cell_type": "markdown",
   "id": "4981ef7f",
   "metadata": {
    "id": "4981ef7f"
   },
   "source": [
    "### Data Preprocessing"
   ]
  },
  {
   "cell_type": "code",
   "execution_count": 7,
   "id": "40667455",
   "metadata": {
    "id": "40667455"
   },
   "outputs": [],
   "source": [
    "# Normalize images \n",
    "X_train = X_train / 255\n",
    "X_test = X_test / 255"
   ]
  },
  {
   "cell_type": "code",
   "execution_count": 8,
   "id": "KcKtEe9LEkLz",
   "metadata": {
    "colab": {
     "base_uri": "https://localhost:8080/"
    },
    "id": "KcKtEe9LEkLz",
    "outputId": "9f1d16e8-361a-473c-cd41-64404c0d6cf1"
   },
   "outputs": [
    {
     "data": {
      "text/plain": [
       "(28, 28)"
      ]
     },
     "execution_count": 8,
     "metadata": {},
     "output_type": "execute_result"
    }
   ],
   "source": [
    "X_train[0].shape"
   ]
  },
  {
   "cell_type": "markdown",
   "id": "9f3662fc",
   "metadata": {
    "id": "9f3662fc"
   },
   "source": [
    "### Modelling"
   ]
  },
  {
   "cell_type": "code",
   "execution_count": 9,
   "id": "f3a008c3",
   "metadata": {
    "colab": {
     "base_uri": "https://localhost:8080/"
    },
    "id": "f3a008c3",
    "outputId": "07c52ecb-dca1-4666-9a94-24747a54edcb"
   },
   "outputs": [
    {
     "name": "stdout",
     "output_type": "stream",
     "text": [
      "Model: \"sequential\"\n",
      "_________________________________________________________________\n",
      " Layer (type)                Output Shape              Param #   \n",
      "=================================================================\n",
      " conv2d (Conv2D)             (None, 28, 28, 6)         156       \n",
      "                                                                 \n",
      " max_pooling2d (MaxPooling2D  (None, 14, 14, 6)        0         \n",
      " )                                                               \n",
      "                                                                 \n",
      " flatten (Flatten)           (None, 1176)              0         \n",
      "                                                                 \n",
      " dense (Dense)               (None, 512)               602624    \n",
      "                                                                 \n",
      " dense_1 (Dense)             (None, 128)               65664     \n",
      "                                                                 \n",
      " dense_2 (Dense)             (None, 10)                1290      \n",
      "                                                                 \n",
      "=================================================================\n",
      "Total params: 669,734\n",
      "Trainable params: 669,734\n",
      "Non-trainable params: 0\n",
      "_________________________________________________________________\n"
     ]
    }
   ],
   "source": [
    "model = Sequential()\n",
    "\n",
    "model.add(Input(shape=(28, 28, 1)))\n",
    "\n",
    "# conv layers \n",
    "model.add(Conv2D(filters=6, kernel_size=5, strides=(1, 1), padding='same', activation='relu'))\n",
    "\n",
    "# pooling \n",
    "model.add(MaxPooling2D(pool_size=(2, 2), strides=(2, 2)))\n",
    "\n",
    "# flatten \n",
    "model.add(Flatten())\n",
    "\n",
    "# Fully Conncted NN \n",
    "model.add(Dense(512, activation='relu'))\n",
    "model.add(Dense(128, activation='relu'))\n",
    "\n",
    "# output layer \n",
    "model.add(Dense(10, activation='softmax'))\n",
    "\n",
    "model.summary()"
   ]
  },
  {
   "cell_type": "code",
   "execution_count": 10,
   "id": "ec39d352",
   "metadata": {
    "id": "ec39d352"
   },
   "outputs": [],
   "source": [
    "model.compile(loss=\"SparseCategoricalCrossentropy\", optimizer=\"Adam\", metrics=[\"accuracy\"])"
   ]
  },
  {
   "cell_type": "code",
   "execution_count": 11,
   "id": "7077bdf5",
   "metadata": {
    "colab": {
     "base_uri": "https://localhost:8080/"
    },
    "id": "7077bdf5",
    "outputId": "0a4a6401-19dc-463f-cdd0-a2ef9ec60ba4"
   },
   "outputs": [
    {
     "name": "stdout",
     "output_type": "stream",
     "text": [
      "Epoch 1/50\n",
      "1875/1875 [==============================] - 20s 7ms/step - loss: 0.1482 - accuracy: 0.9546 - val_loss: 0.0673 - val_accuracy: 0.9787\n",
      "Epoch 2/50\n",
      "1875/1875 [==============================] - 7s 3ms/step - loss: 0.0522 - accuracy: 0.9836 - val_loss: 0.0447 - val_accuracy: 0.9854\n",
      "Epoch 3/50\n",
      "1875/1875 [==============================] - 7s 4ms/step - loss: 0.0325 - accuracy: 0.9900 - val_loss: 0.0404 - val_accuracy: 0.9865\n",
      "Epoch 4/50\n",
      "1875/1875 [==============================] - 6s 3ms/step - loss: 0.0239 - accuracy: 0.9923 - val_loss: 0.0518 - val_accuracy: 0.9834\n",
      "Epoch 5/50\n",
      "1875/1875 [==============================] - 7s 4ms/step - loss: 0.0178 - accuracy: 0.9939 - val_loss: 0.0642 - val_accuracy: 0.9811\n",
      "Epoch 6/50\n",
      "1875/1875 [==============================] - 7s 4ms/step - loss: 0.0133 - accuracy: 0.9956 - val_loss: 0.0512 - val_accuracy: 0.9852\n",
      "Epoch 7/50\n",
      "1875/1875 [==============================] - 7s 4ms/step - loss: 0.0119 - accuracy: 0.9962 - val_loss: 0.0552 - val_accuracy: 0.9860\n",
      "Epoch 8/50\n",
      "1875/1875 [==============================] - 7s 4ms/step - loss: 0.0103 - accuracy: 0.9966 - val_loss: 0.0604 - val_accuracy: 0.9851\n",
      "Epoch 9/50\n",
      "1875/1875 [==============================] - 7s 3ms/step - loss: 0.0079 - accuracy: 0.9973 - val_loss: 0.0570 - val_accuracy: 0.9876\n",
      "Epoch 10/50\n",
      "1875/1875 [==============================] - 7s 4ms/step - loss: 0.0081 - accuracy: 0.9976 - val_loss: 0.0633 - val_accuracy: 0.9868\n",
      "Epoch 11/50\n",
      "1875/1875 [==============================] - 6s 3ms/step - loss: 0.0077 - accuracy: 0.9979 - val_loss: 0.0655 - val_accuracy: 0.9866\n",
      "Epoch 12/50\n",
      "1875/1875 [==============================] - 7s 4ms/step - loss: 0.0063 - accuracy: 0.9978 - val_loss: 0.0717 - val_accuracy: 0.9849\n",
      "Epoch 13/50\n",
      "1875/1875 [==============================] - 7s 3ms/step - loss: 0.0054 - accuracy: 0.9983 - val_loss: 0.0663 - val_accuracy: 0.9881\n",
      "Epoch 14/50\n",
      "1875/1875 [==============================] - 8s 4ms/step - loss: 0.0063 - accuracy: 0.9980 - val_loss: 0.0558 - val_accuracy: 0.9885\n",
      "Epoch 15/50\n",
      "1875/1875 [==============================] - 7s 4ms/step - loss: 0.0064 - accuracy: 0.9984 - val_loss: 0.0636 - val_accuracy: 0.9875\n",
      "Epoch 16/50\n",
      "1875/1875 [==============================] - 7s 4ms/step - loss: 0.0037 - accuracy: 0.9987 - val_loss: 0.0622 - val_accuracy: 0.9884\n",
      "Epoch 17/50\n",
      "1875/1875 [==============================] - 8s 4ms/step - loss: 0.0054 - accuracy: 0.9985 - val_loss: 0.0639 - val_accuracy: 0.9868\n",
      "Epoch 18/50\n",
      "1875/1875 [==============================] - 7s 4ms/step - loss: 0.0057 - accuracy: 0.9984 - val_loss: 0.0767 - val_accuracy: 0.9873\n",
      "Epoch 19/50\n",
      "1875/1875 [==============================] - 7s 4ms/step - loss: 0.0034 - accuracy: 0.9991 - val_loss: 0.0783 - val_accuracy: 0.9871\n",
      "Epoch 20/50\n",
      "1875/1875 [==============================] - 7s 4ms/step - loss: 0.0062 - accuracy: 0.9983 - val_loss: 0.0871 - val_accuracy: 0.9855\n",
      "Epoch 21/50\n",
      "1875/1875 [==============================] - 6s 3ms/step - loss: 0.0015 - accuracy: 0.9996 - val_loss: 0.0880 - val_accuracy: 0.9870\n",
      "Epoch 22/50\n",
      "1875/1875 [==============================] - 7s 4ms/step - loss: 0.0044 - accuracy: 0.9989 - val_loss: 0.1019 - val_accuracy: 0.9871\n",
      "Epoch 23/50\n",
      "1875/1875 [==============================] - 6s 3ms/step - loss: 0.0036 - accuracy: 0.9991 - val_loss: 0.1078 - val_accuracy: 0.9865\n",
      "Epoch 24/50\n",
      "1875/1875 [==============================] - 7s 4ms/step - loss: 0.0042 - accuracy: 0.9989 - val_loss: 0.0906 - val_accuracy: 0.9869\n",
      "Epoch 25/50\n",
      "1875/1875 [==============================] - 6s 3ms/step - loss: 0.0028 - accuracy: 0.9994 - val_loss: 0.0911 - val_accuracy: 0.9883\n",
      "Epoch 26/50\n",
      "1875/1875 [==============================] - 7s 4ms/step - loss: 0.0044 - accuracy: 0.9989 - val_loss: 0.0850 - val_accuracy: 0.9879\n",
      "Epoch 27/50\n",
      "1875/1875 [==============================] - 7s 4ms/step - loss: 0.0016 - accuracy: 0.9995 - val_loss: 0.0979 - val_accuracy: 0.9887\n",
      "Epoch 28/50\n",
      "1875/1875 [==============================] - 7s 4ms/step - loss: 0.0061 - accuracy: 0.9987 - val_loss: 0.1005 - val_accuracy: 0.9863\n",
      "Epoch 29/50\n",
      "1875/1875 [==============================] - 8s 4ms/step - loss: 0.0043 - accuracy: 0.9988 - val_loss: 0.1027 - val_accuracy: 0.9853\n",
      "Epoch 30/50\n",
      "1875/1875 [==============================] - 6s 3ms/step - loss: 0.0038 - accuracy: 0.9992 - val_loss: 0.1144 - val_accuracy: 0.9875\n",
      "Epoch 31/50\n",
      "1875/1875 [==============================] - 7s 4ms/step - loss: 0.0015 - accuracy: 0.9996 - val_loss: 0.0959 - val_accuracy: 0.9871\n",
      "Epoch 32/50\n",
      "1875/1875 [==============================] - 6s 3ms/step - loss: 0.0030 - accuracy: 0.9993 - val_loss: 0.1186 - val_accuracy: 0.9846\n",
      "Epoch 33/50\n",
      "1875/1875 [==============================] - 7s 4ms/step - loss: 0.0026 - accuracy: 0.9992 - val_loss: 0.1235 - val_accuracy: 0.9843\n",
      "Epoch 34/50\n",
      "1875/1875 [==============================] - 6s 3ms/step - loss: 0.0037 - accuracy: 0.9991 - val_loss: 0.1083 - val_accuracy: 0.9877\n",
      "Epoch 35/50\n",
      "1875/1875 [==============================] - 7s 4ms/step - loss: 0.0038 - accuracy: 0.9991 - val_loss: 0.1044 - val_accuracy: 0.9872\n",
      "Epoch 36/50\n",
      "1875/1875 [==============================] - 7s 4ms/step - loss: 0.0019 - accuracy: 0.9996 - val_loss: 0.1113 - val_accuracy: 0.9870\n",
      "Epoch 37/50\n",
      "1875/1875 [==============================] - 6s 3ms/step - loss: 0.0051 - accuracy: 0.9990 - val_loss: 0.0985 - val_accuracy: 0.9868\n",
      "Epoch 38/50\n",
      "1875/1875 [==============================] - 7s 4ms/step - loss: 0.0026 - accuracy: 0.9994 - val_loss: 0.1147 - val_accuracy: 0.9862\n",
      "Epoch 39/50\n",
      "1875/1875 [==============================] - 6s 3ms/step - loss: 0.0019 - accuracy: 0.9996 - val_loss: 0.1032 - val_accuracy: 0.9870\n",
      "Epoch 40/50\n",
      "1875/1875 [==============================] - 7s 4ms/step - loss: 0.0036 - accuracy: 0.9992 - val_loss: 0.1108 - val_accuracy: 0.9895\n",
      "Epoch 41/50\n",
      "1875/1875 [==============================] - 6s 3ms/step - loss: 0.0047 - accuracy: 0.9991 - val_loss: 0.1316 - val_accuracy: 0.9875\n",
      "Epoch 42/50\n",
      "1875/1875 [==============================] - 7s 4ms/step - loss: 0.0023 - accuracy: 0.9994 - val_loss: 0.1384 - val_accuracy: 0.9883\n",
      "Epoch 43/50\n",
      "1875/1875 [==============================] - 7s 3ms/step - loss: 0.0026 - accuracy: 0.9995 - val_loss: 0.1329 - val_accuracy: 0.9863\n",
      "Epoch 44/50\n",
      "1875/1875 [==============================] - 7s 4ms/step - loss: 0.0044 - accuracy: 0.9991 - val_loss: 0.1829 - val_accuracy: 0.9842\n",
      "Epoch 45/50\n",
      "1875/1875 [==============================] - 7s 4ms/step - loss: 0.0043 - accuracy: 0.9993 - val_loss: 0.1536 - val_accuracy: 0.9863\n",
      "Epoch 46/50\n",
      "1875/1875 [==============================] - 6s 3ms/step - loss: 0.0027 - accuracy: 0.9994 - val_loss: 0.1373 - val_accuracy: 0.9868\n",
      "Epoch 47/50\n",
      "1875/1875 [==============================] - 7s 4ms/step - loss: 0.0020 - accuracy: 0.9996 - val_loss: 0.1654 - val_accuracy: 0.9845\n",
      "Epoch 48/50\n",
      "1875/1875 [==============================] - 7s 4ms/step - loss: 0.0049 - accuracy: 0.9991 - val_loss: 0.1730 - val_accuracy: 0.9870\n",
      "Epoch 49/50\n",
      "1875/1875 [==============================] - 7s 4ms/step - loss: 0.0012 - accuracy: 0.9997 - val_loss: 0.1401 - val_accuracy: 0.9878\n",
      "Epoch 50/50\n",
      "1875/1875 [==============================] - 6s 3ms/step - loss: 8.6221e-04 - accuracy: 0.9998 - val_loss: 0.1611 - val_accuracy: 0.9864\n"
     ]
    }
   ],
   "source": [
    "result = model.fit(X_train, y_train, verbose=1, epochs=50, validation_data=(X_test, y_test))"
   ]
  },
  {
   "cell_type": "code",
   "execution_count": 12,
   "id": "716ad17a",
   "metadata": {
    "colab": {
     "base_uri": "https://localhost:8080/",
     "height": 472
    },
    "id": "716ad17a",
    "outputId": "b1aedfc2-dd38-4cb4-e681-0c2b38b728be"
   },
   "outputs": [
    {
     "data": {
      "image/png": "[encoded data removed]",
      "text/plain": [
       "<Figure size 640x480 with 1 Axes>"
      ]
     },
     "metadata": {},
     "output_type": "display_data"
    }
   ],
   "source": [
    "plt.plot(result.history[\"loss\"])\n",
    "plt.plot(result.history[\"val_loss\"])\n",
    "plt.title(\"Model Loss\")\n",
    "plt.ylabel(\"Loss\")\n",
    "plt.xlabel(\"Epoch\")\n",
    "plt.legend([\"Train\", \"Test\"], loc=\"upper right\")\n",
    "plt.show()"
   ]
  },
  {
   "cell_type": "code",
   "execution_count": 13,
   "id": "a7b94b59",
   "metadata": {
    "colab": {
     "base_uri": "https://localhost:8080/",
     "height": 472
    },
    "id": "a7b94b59",
    "outputId": "acc76a59-e94e-4cc9-95b4-b6ee9ea8af9c"
   },
   "outputs": [
    {
     "data": {
      "image/png": "[encoded data removed]",
      "text/plain": [
       "<Figure size 640x480 with 1 Axes>"
      ]
     },
     "metadata": {},
     "output_type": "display_data"
    }
   ],
   "source": [
    "plt.plot(result.history[\"accuracy\"])\n",
    "plt.plot(result.history[\"val_accuracy\"])\n",
    "plt.title(\"Model Accuracy\")\n",
    "plt.ylabel(\"Accuuracy\")\n",
    "plt.xlabel(\"Epoch\")\n",
    "plt.legend([\"Train\", \"Test\"], loc=\"upper right\")\n",
    "plt.show()"
   ]
  },
  {
   "cell_type": "code",
   "execution_count": 14,
   "id": "f6fb9896",
   "metadata": {
    "id": "f6fb9896"
   },
   "outputs": [],
   "source": [
    "model.save(\"mnist_classification_model_CNN.h5\")"
   ]
  },
  {
   "cell_type": "code",
   "execution_count": 15,
   "id": "d10653a3",
   "metadata": {
    "id": "d10653a3"
   },
   "outputs": [],
   "source": [
    "my_model = load_model(\"mnist_classification_model_CNN.h5\")\n"
   ]
  },
  {
   "cell_type": "code",
   "execution_count": 15,
   "id": "c5ac3c6f",
   "metadata": {
    "id": "c5ac3c6f"
   },
   "outputs": [],
   "source": []
  }
 ],
 "metadata": {
  "accelerator": "GPU",
  "colab": {
   "gpuType": "T4",
   "provenance": []
  },
  "kernelspec": {
   "display_name": "Python 3",
   "name": "python3"
  },
  "language_info": {
   "codemirror_mode": {
    "name": "ipython",
    "version": 3
   },
   "file_extension": ".py",
   "mimetype": "text/x-python",
   "name": "python",
   "nbconvert_exporter": "python",
   "pygments_lexer": "ipython3",
   "version": "3.9.12"
  }
 },
 "nbformat": 4,
 "nbformat_minor": 5
}
