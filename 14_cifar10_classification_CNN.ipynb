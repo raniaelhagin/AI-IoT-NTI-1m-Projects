{
 "cells": [
  {
   "cell_type": "code",
   "execution_count": 1,
   "id": "a7280e46",
   "metadata": {
    "id": "a7280e46"
   },
   "outputs": [],
   "source": [
    "from IPython.display import display\n",
    "import pandas as pd\n",
    "import numpy as np\n",
    "import matplotlib.pyplot as plt\n",
    "import seaborn as sns\n",
    "\n",
    "from sklearn.model_selection import train_test_split\n",
    "\n",
    "from keras.models import Sequential, load_model\n",
    "from keras.layers import Input, Dense, Conv2D, MaxPooling2D, Flatten, Dropout\n",
    "from keras.datasets import cifar10"
   ]
  },
  {
   "cell_type": "code",
   "execution_count": 2,
   "id": "ece7314e",
   "metadata": {
    "id": "ece7314e"
   },
   "outputs": [],
   "source": [
    "(X_train, y_train), (X_test, y_test) = cifar10.load_data()"
   ]
  },
  {
   "cell_type": "code",
   "execution_count": 3,
   "id": "26b3f8b2",
   "metadata": {
    "colab": {
     "base_uri": "https://localhost:8080/"
    },
    "id": "26b3f8b2",
    "outputId": "464f38d8-e8e6-4904-f6dd-e05d12323966"
   },
   "outputs": [
    {
     "data": {
      "text/plain": [
       "(50000, 32, 32, 3)"
      ]
     },
     "execution_count": 3,
     "metadata": {},
     "output_type": "execute_result"
    }
   ],
   "source": [
    "X_train.shape "
   ]
  },
  {
   "cell_type": "code",
   "execution_count": 4,
   "id": "0e8f6b57",
   "metadata": {
    "colab": {
     "base_uri": "https://localhost:8080/"
    },
    "id": "0e8f6b57",
    "outputId": "5f7e716a-9512-4f97-f795-09a56f86428e"
   },
   "outputs": [
    {
     "data": {
      "text/plain": [
       "(50000, 1)"
      ]
     },
     "execution_count": 4,
     "metadata": {},
     "output_type": "execute_result"
    }
   ],
   "source": [
    "y_train.shape"
   ]
  },
  {
   "cell_type": "code",
   "execution_count": 5,
   "id": "418f3d1c",
   "metadata": {
    "colab": {
     "base_uri": "https://localhost:8080/"
    },
    "id": "418f3d1c",
    "outputId": "31c57969-b331-4074-9fd6-80982c432ebc"
   },
   "outputs": [
    {
     "data": {
      "text/plain": [
       "(10000, 32, 32, 3)"
      ]
     },
     "execution_count": 5,
     "metadata": {},
     "output_type": "execute_result"
    }
   ],
   "source": [
    "X_test.shape"
   ]
  },
  {
   "cell_type": "code",
   "execution_count": 6,
   "id": "7c065e96",
   "metadata": {
    "colab": {
     "base_uri": "https://localhost:8080/"
    },
    "id": "7c065e96",
    "outputId": "b99fd8a5-2940-4a2a-f4a8-9b79a425ef44"
   },
   "outputs": [
    {
     "data": {
      "text/plain": [
       "(10000, 1)"
      ]
     },
     "execution_count": 6,
     "metadata": {},
     "output_type": "execute_result"
    }
   ],
   "source": [
    "y_test.shape"
   ]
  },
  {
   "cell_type": "markdown",
   "id": "4981ef7f",
   "metadata": {
    "id": "4981ef7f"
   },
   "source": [
    "### Data Preprocessing"
   ]
  },
  {
   "cell_type": "code",
   "execution_count": 7,
   "id": "40667455",
   "metadata": {
    "id": "40667455"
   },
   "outputs": [],
   "source": [
    "# Normalize images \n",
    "X_train = X_train / 255\n",
    "X_test = X_test / 255"
   ]
  },
  {
   "cell_type": "code",
   "execution_count": 8,
   "id": "KcKtEe9LEkLz",
   "metadata": {
    "colab": {
     "base_uri": "https://localhost:8080/"
    },
    "id": "KcKtEe9LEkLz",
    "outputId": "186480af-76ce-4fc2-bb5a-2975049d1288"
   },
   "outputs": [
    {
     "data": {
      "text/plain": [
       "(32, 32, 3)"
      ]
     },
     "execution_count": 8,
     "metadata": {},
     "output_type": "execute_result"
    }
   ],
   "source": [
    "X_train[0].shape"
   ]
  },
  {
   "cell_type": "markdown",
   "id": "9f3662fc",
   "metadata": {
    "id": "9f3662fc"
   },
   "source": [
    "### Modelling"
   ]
  },
  {
   "cell_type": "code",
   "execution_count": 9,
   "id": "f3a008c3",
   "metadata": {
    "colab": {
     "base_uri": "https://localhost:8080/"
    },
    "id": "f3a008c3",
    "outputId": "c533ad91-8e9d-4ce0-d745-c50855df29ad"
   },
   "outputs": [
    {
     "name": "stdout",
     "output_type": "stream",
     "text": [
      "Model: \"sequential\"\n",
      "_________________________________________________________________\n",
      " Layer (type)                Output Shape              Param #   \n",
      "=================================================================\n",
      " conv2d (Conv2D)             (None, 32, 32, 6)         456       \n",
      "                                                                 \n",
      " max_pooling2d (MaxPooling2D  (None, 16, 16, 6)        0         \n",
      " )                                                               \n",
      "                                                                 \n",
      " flatten (Flatten)           (None, 1536)              0         \n",
      "                                                                 \n",
      " dense (Dense)               (None, 512)               786944    \n",
      "                                                                 \n",
      " dense_1 (Dense)             (None, 128)               65664     \n",
      "                                                                 \n",
      " dense_2 (Dense)             (None, 10)                1290      \n",
      "                                                                 \n",
      "=================================================================\n",
      "Total params: 854,354\n",
      "Trainable params: 854,354\n",
      "Non-trainable params: 0\n",
      "_________________________________________________________________\n"
     ]
    }
   ],
   "source": [
    "model = Sequential()\n",
    "\n",
    "model.add(Input(shape=(32, 32, 3)))\n",
    "\n",
    "# conv layers \n",
    "model.add(Conv2D(filters=6, kernel_size=5, strides=(1, 1), padding='same', activation='relu'))\n",
    "\n",
    "# pooling \n",
    "model.add(MaxPooling2D(pool_size=(2, 2), strides=(2, 2)))\n",
    "\n",
    "# flatten \n",
    "model.add(Flatten())\n",
    "\n",
    "# Fully Conncted NN \n",
    "model.add(Dense(512, activation='relu'))\n",
    "model.add(Dense(128, activation='relu'))\n",
    "\n",
    "# output layer \n",
    "model.add(Dense(10, activation='softmax'))\n",
    "\n",
    "model.summary()"
   ]
  },
  {
   "cell_type": "code",
   "execution_count": 10,
   "id": "ec39d352",
   "metadata": {
    "id": "ec39d352"
   },
   "outputs": [],
   "source": [
    "model.compile(loss=\"SparseCategoricalCrossentropy\", optimizer=\"Adam\", metrics=[\"accuracy\"])"
   ]
  },
  {
   "cell_type": "code",
   "execution_count": 11,
   "id": "7077bdf5",
   "metadata": {
    "colab": {
     "base_uri": "https://localhost:8080/"
    },
    "id": "7077bdf5",
    "outputId": "49af98a6-c8b6-41bc-a3e3-ff8dcff1be45"
   },
   "outputs": [
    {
     "name": "stdout",
     "output_type": "stream",
     "text": [
      "Epoch 1/20\n",
      "1563/1563 [==============================] - 121s 75ms/step - loss: 1.5347 - accuracy: 0.4491 - val_loss: 1.3198 - val_accuracy: 0.5251\n",
      "Epoch 2/20\n",
      "1563/1563 [==============================] - 111s 71ms/step - loss: 1.2301 - accuracy: 0.5611 - val_loss: 1.2734 - val_accuracy: 0.5490\n",
      "Epoch 3/20\n",
      "1563/1563 [==============================] - 112s 72ms/step - loss: 1.0687 - accuracy: 0.6193 - val_loss: 1.1581 - val_accuracy: 0.5913\n",
      "Epoch 4/20\n",
      "1563/1563 [==============================] - 113s 73ms/step - loss: 0.9221 - accuracy: 0.6739 - val_loss: 1.1517 - val_accuracy: 0.6031\n",
      "Epoch 5/20\n",
      "1563/1563 [==============================] - 111s 71ms/step - loss: 0.7856 - accuracy: 0.7243 - val_loss: 1.1576 - val_accuracy: 0.6164\n",
      "Epoch 6/20\n",
      "1563/1563 [==============================] - 110s 71ms/step - loss: 0.6565 - accuracy: 0.7691 - val_loss: 1.2094 - val_accuracy: 0.6127\n",
      "Epoch 7/20\n",
      "1563/1563 [==============================] - 102s 65ms/step - loss: 0.5276 - accuracy: 0.8148 - val_loss: 1.3577 - val_accuracy: 0.5907\n",
      "Epoch 8/20\n",
      "1563/1563 [==============================] - 99s 63ms/step - loss: 0.4247 - accuracy: 0.8516 - val_loss: 1.5331 - val_accuracy: 0.5964\n",
      "Epoch 9/20\n",
      "1563/1563 [==============================] - 104s 67ms/step - loss: 0.3340 - accuracy: 0.8820 - val_loss: 1.6786 - val_accuracy: 0.5952\n",
      "Epoch 10/20\n",
      "1563/1563 [==============================] - 99s 63ms/step - loss: 0.2661 - accuracy: 0.9062 - val_loss: 1.7762 - val_accuracy: 0.5954\n",
      "Epoch 11/20\n",
      "1563/1563 [==============================] - 114s 73ms/step - loss: 0.2180 - accuracy: 0.9228 - val_loss: 1.9205 - val_accuracy: 0.5913\n",
      "Epoch 12/20\n",
      "1563/1563 [==============================] - 121s 78ms/step - loss: 0.1762 - accuracy: 0.9396 - val_loss: 2.2109 - val_accuracy: 0.5961\n",
      "Epoch 13/20\n",
      "1563/1563 [==============================] - 121s 77ms/step - loss: 0.1675 - accuracy: 0.9423 - val_loss: 2.4504 - val_accuracy: 0.5737\n",
      "Epoch 14/20\n",
      "1563/1563 [==============================] - 121s 78ms/step - loss: 0.1433 - accuracy: 0.9492 - val_loss: 2.5163 - val_accuracy: 0.5880\n",
      "Epoch 15/20\n",
      "1563/1563 [==============================] - 120s 77ms/step - loss: 0.1284 - accuracy: 0.9563 - val_loss: 2.6380 - val_accuracy: 0.5951\n",
      "Epoch 16/20\n",
      "1563/1563 [==============================] - 124s 80ms/step - loss: 0.1237 - accuracy: 0.9581 - val_loss: 2.7980 - val_accuracy: 0.5678\n",
      "Epoch 17/20\n",
      "1563/1563 [==============================] - 126s 81ms/step - loss: 0.1130 - accuracy: 0.9616 - val_loss: 2.7861 - val_accuracy: 0.5908\n",
      "Epoch 18/20\n",
      "1563/1563 [==============================] - 131s 84ms/step - loss: 0.1026 - accuracy: 0.9653 - val_loss: 2.8509 - val_accuracy: 0.5875\n",
      "Epoch 19/20\n",
      "1563/1563 [==============================] - 120s 76ms/step - loss: 0.1010 - accuracy: 0.9650 - val_loss: 3.1390 - val_accuracy: 0.5813\n",
      "Epoch 20/20\n",
      "1563/1563 [==============================] - 121s 77ms/step - loss: 0.0925 - accuracy: 0.9688 - val_loss: 3.2933 - val_accuracy: 0.5793\n"
     ]
    }
   ],
   "source": [
    "result = model.fit(X_train, y_train, verbose=1, epochs=20, validation_data=(X_test, y_test))"
   ]
  },
  {
   "cell_type": "code",
   "execution_count": 12,
   "id": "716ad17a",
   "metadata": {
    "colab": {
     "base_uri": "https://localhost:8080/",
     "height": 472
    },
    "id": "716ad17a",
    "outputId": "9eeccf2e-fd85-4583-fcae-0b96db9c1f19"
   },
   "outputs": [
    {
     "data": {
      "image/png": "[encoded data removed]",
      "text/plain": [
       "<Figure size 640x480 with 1 Axes>"
      ]
     },
     "metadata": {},
     "output_type": "display_data"
    }
   ],
   "source": [
    "plt.plot(result.history[\"loss\"])\n",
    "plt.plot(result.history[\"val_loss\"])\n",
    "plt.title(\"Model Loss\")\n",
    "plt.ylabel(\"Loss\")\n",
    "plt.xlabel(\"Epoch\")\n",
    "plt.legend([\"Train\", \"Test\"], loc=\"upper right\")\n",
    "plt.show()"
   ]
  },
  {
   "cell_type": "code",
   "execution_count": 13,
   "id": "a7b94b59",
   "metadata": {
    "colab": {
     "base_uri": "https://localhost:8080/",
     "height": 472
    },
    "id": "a7b94b59",
    "outputId": "ad3429b8-a7e0-44c5-d30d-7a7640e4cc84"
   },
   "outputs": [
    {
     "data": {
      "image/png": "[encoded data removed]",
      "text/plain": [
       "<Figure size 640x480 with 1 Axes>"
      ]
     },
     "metadata": {},
     "output_type": "display_data"
    }
   ],
   "source": [
    "plt.plot(result.history[\"accuracy\"])\n",
    "plt.plot(result.history[\"val_accuracy\"])\n",
    "plt.title(\"Model Accuracy\")\n",
    "plt.ylabel(\"Accuuracy\")\n",
    "plt.xlabel(\"Epoch\")\n",
    "plt.legend([\"Train\", \"Test\"], loc=\"upper right\")\n",
    "plt.show()"
   ]
  },
  {
   "cell_type": "code",
   "execution_count": 14,
   "id": "f6fb9896",
   "metadata": {
    "id": "f6fb9896"
   },
   "outputs": [],
   "source": [
    "model.save(\"cifar10_classification_model_CNN.h5\")"
   ]
  },
  {
   "cell_type": "code",
   "execution_count": 15,
   "id": "d10653a3",
   "metadata": {
    "id": "d10653a3"
   },
   "outputs": [],
   "source": [
    "my_model = load_model(\"cifar10_classification_model_CNN.h5\")\n"
   ]
  },
  {
   "cell_type": "code",
   "execution_count": null,
   "id": "c5ac3c6f",
   "metadata": {
    "id": "c5ac3c6f"
   },
   "outputs": [],
   "source": []
  }
 ],
 "metadata": {
  "accelerator": "GPU",
  "colab": {
   "gpuType": "T4",
   "provenance": []
  },
  "kernelspec": {
   "display_name": "Python 3 (ipykernel)",
   "language": "python",
   "name": "python3"
  },
  "language_info": {
   "codemirror_mode": {
    "name": "ipython",
    "version": 3
   },
   "file_extension": ".py",
   "mimetype": "text/x-python",
   "name": "python",
   "nbconvert_exporter": "python",
   "pygments_lexer": "ipython3",
   "version": "3.9.12"
  }
 },
 "nbformat": 4,
 "nbformat_minor": 5
}
