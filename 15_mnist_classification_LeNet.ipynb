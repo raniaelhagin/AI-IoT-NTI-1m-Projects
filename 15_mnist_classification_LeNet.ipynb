{
  "cells": [
    {
      "cell_type": "code",
      "execution_count": 1,
      "id": "a7280e46",
      "metadata": {
        "id": "a7280e46"
      },
      "outputs": [],
      "source": [
        "from IPython.display import display\n",
        "import pandas as pd\n",
        "import numpy as np\n",
        "import matplotlib.pyplot as plt\n",
        "import seaborn as sns\n",
        "\n",
        "from sklearn.model_selection import train_test_split\n",
        "\n",
        "\n",
        "from keras.models import Sequential, load_model\n",
        "from keras.layers import Input, Dense, Conv2D, MaxPooling2D, Flatten, AveragePooling2D\n",
        "from keras.datasets import mnist"
      ]
    },
    {
      "cell_type": "code",
      "execution_count": 2,
      "id": "ece7314e",
      "metadata": {
        "id": "ece7314e",
        "colab": {
          "base_uri": "https://localhost:8080/"
        },
        "outputId": "5d19b097-d359-4a94-f9bb-693604fa7ee7"
      },
      "outputs": [
        {
          "output_type": "stream",
          "name": "stdout",
          "text": [
            "Downloading data from https://storage.googleapis.com/tensorflow/tf-keras-datasets/mnist.npz\n",
            "11490434/11490434 [==============================] - 0s 0us/step\n"
          ]
        }
      ],
      "source": [
        "(X_train, y_train), (X_test, y_test) = mnist.load_data()"
      ]
    },
    {
      "cell_type": "code",
      "execution_count": 3,
      "id": "26b3f8b2",
      "metadata": {
        "colab": {
          "base_uri": "https://localhost:8080/"
        },
        "id": "26b3f8b2",
        "outputId": "526ce268-2ec6-49ad-8949-2e9556f565dd"
      },
      "outputs": [
        {
          "output_type": "execute_result",
          "data": {
            "text/plain": [
              "(60000, 28, 28)"
            ]
          },
          "metadata": {},
          "execution_count": 3
        }
      ],
      "source": [
        "X_train.shape "
      ]
    },
    {
      "cell_type": "code",
      "execution_count": 4,
      "id": "0e8f6b57",
      "metadata": {
        "colab": {
          "base_uri": "https://localhost:8080/"
        },
        "id": "0e8f6b57",
        "outputId": "126ab6c1-b708-4454-d21e-fce942cc872e"
      },
      "outputs": [
        {
          "output_type": "execute_result",
          "data": {
            "text/plain": [
              "(60000,)"
            ]
          },
          "metadata": {},
          "execution_count": 4
        }
      ],
      "source": [
        "y_train.shape"
      ]
    },
    {
      "cell_type": "code",
      "execution_count": 5,
      "id": "418f3d1c",
      "metadata": {
        "colab": {
          "base_uri": "https://localhost:8080/"
        },
        "id": "418f3d1c",
        "outputId": "7da51e3c-95b7-40df-a913-7582a25d1941"
      },
      "outputs": [
        {
          "output_type": "execute_result",
          "data": {
            "text/plain": [
              "(10000, 28, 28)"
            ]
          },
          "metadata": {},
          "execution_count": 5
        }
      ],
      "source": [
        "X_test.shape"
      ]
    },
    {
      "cell_type": "code",
      "execution_count": 6,
      "id": "7c065e96",
      "metadata": {
        "colab": {
          "base_uri": "https://localhost:8080/"
        },
        "id": "7c065e96",
        "outputId": "e1f668bb-eb99-4729-ae13-2a9310b65010"
      },
      "outputs": [
        {
          "output_type": "execute_result",
          "data": {
            "text/plain": [
              "(10000,)"
            ]
          },
          "metadata": {},
          "execution_count": 6
        }
      ],
      "source": [
        "y_test.shape"
      ]
    },
    {
      "cell_type": "markdown",
      "id": "4981ef7f",
      "metadata": {
        "id": "4981ef7f"
      },
      "source": [
        "### Data Preprocessing"
      ]
    },
    {
      "cell_type": "code",
      "execution_count": 7,
      "id": "40667455",
      "metadata": {
        "id": "40667455"
      },
      "outputs": [],
      "source": [
        "# Normalize images \n",
        "X_train = X_train / 255\n",
        "X_test = X_test / 255"
      ]
    },
    {
      "cell_type": "code",
      "execution_count": 8,
      "id": "KcKtEe9LEkLz",
      "metadata": {
        "colab": {
          "base_uri": "https://localhost:8080/"
        },
        "id": "KcKtEe9LEkLz",
        "outputId": "e7a4f3c0-59ee-4ac7-aee4-c65dd6ed2933"
      },
      "outputs": [
        {
          "output_type": "execute_result",
          "data": {
            "text/plain": [
              "(28, 28)"
            ]
          },
          "metadata": {},
          "execution_count": 8
        }
      ],
      "source": [
        "X_train[0].shape"
      ]
    },
    {
      "cell_type": "markdown",
      "id": "9f3662fc",
      "metadata": {
        "id": "9f3662fc"
      },
      "source": [
        "### Modelling"
      ]
    },
    {
      "cell_type": "code",
      "execution_count": 9,
      "id": "f3a008c3",
      "metadata": {
        "colab": {
          "base_uri": "https://localhost:8080/"
        },
        "id": "f3a008c3",
        "outputId": "ee489c77-12e3-4c66-a118-54479b439b25"
      },
      "outputs": [
        {
          "output_type": "stream",
          "name": "stdout",
          "text": [
            "Model: \"sequential\"\n",
            "_________________________________________________________________\n",
            " Layer (type)                Output Shape              Param #   \n",
            "=================================================================\n",
            " conv2d (Conv2D)             (None, 28, 28, 6)         156       \n",
            "                                                                 \n",
            " average_pooling2d (AverageP  (None, 14, 14, 6)        0         \n",
            " ooling2D)                                                       \n",
            "                                                                 \n",
            " conv2d_1 (Conv2D)           (None, 10, 10, 16)        2416      \n",
            "                                                                 \n",
            " average_pooling2d_1 (Averag  (None, 5, 5, 16)         0         \n",
            " ePooling2D)                                                     \n",
            "                                                                 \n",
            " conv2d_2 (Conv2D)           (None, 1, 1, 120)         48120     \n",
            "                                                                 \n",
            " dense (Dense)               (None, 1, 1, 84)          10164     \n",
            "                                                                 \n",
            " dense_1 (Dense)             (None, 1, 1, 10)          850       \n",
            "                                                                 \n",
            "=================================================================\n",
            "Total params: 61,706\n",
            "Trainable params: 61,706\n",
            "Non-trainable params: 0\n",
            "_________________________________________________________________\n"
          ]
        }
      ],
      "source": [
        "model = Sequential()\n",
        "\n",
        "# conv layer 1\n",
        "model.add(Conv2D(filters=6, kernel_size=5, strides=(1, 1), padding=\"same\", activation='tanh', input_shape=(28, 28, 1)))\n",
        "\n",
        "# pooling 1\n",
        "model.add(AveragePooling2D(pool_size=(2, 2), strides=(2, 2)))\n",
        "\n",
        "# conv layer 2\n",
        "model.add(Conv2D(filters=16, kernel_size=(5, 5), strides=(1, 1), activation='tanh'))\n",
        "\n",
        "# pooling 2\n",
        "model.add(AveragePooling2D(pool_size=(2, 2), strides=(2, 2)))\n",
        "\n",
        "# conv layer 3\n",
        "model.add(Conv2D(filters=120, kernel_size=(5, 5), strides=(1, 1), activation='tanh'))\n",
        "\n",
        "# Fully Conncted NN \n",
        "model.add(Dense(84, activation='tanh'))\n",
        "\n",
        "# output layer \n",
        "model.add(Dense(10, activation='softmax'))\n",
        "\n",
        "model.summary()"
      ]
    },
    {
      "cell_type": "code",
      "execution_count": 10,
      "id": "ec39d352",
      "metadata": {
        "id": "ec39d352"
      },
      "outputs": [],
      "source": [
        "model.compile(loss=\"SparseCategoricalCrossentropy\", optimizer=\"Adam\", metrics=[\"accuracy\"])"
      ]
    },
    {
      "cell_type": "code",
      "execution_count": null,
      "id": "7077bdf5",
      "metadata": {
        "colab": {
          "base_uri": "https://localhost:8080/"
        },
        "id": "7077bdf5",
        "outputId": "752f72bd-3f59-45f3-ad9f-7fc878ca11ef"
      },
      "outputs": [
        {
          "output_type": "stream",
          "name": "stdout",
          "text": [
            "Epoch 1/50\n",
            "1875/1875 [==============================] - 55s 28ms/step - loss: 0.2242 - accuracy: 0.1266 - val_loss: 0.1092 - val_accuracy: 0.1223\n",
            "Epoch 2/50\n",
            "1665/1875 [=========================>....] - ETA: 4s - loss: 0.0851 - accuracy: 0.1276"
          ]
        }
      ],
      "source": [
        "result = model.fit(X_train, y_train, verbose=1, epochs=50, validation_data=(X_test, y_test))"
      ]
    },
    {
      "cell_type": "code",
      "execution_count": null,
      "id": "716ad17a",
      "metadata": {
        "id": "716ad17a"
      },
      "outputs": [],
      "source": [
        "plt.plot(result.history[\"loss\"])\n",
        "plt.plot(result.history[\"val_loss\"])\n",
        "plt.title(\"Model Loss\")\n",
        "plt.ylabel(\"Loss\")\n",
        "plt.xlabel(\"Epoch\")\n",
        "plt.legend([\"Train\", \"Test\"], loc=\"upper right\")\n",
        "plt.show()"
      ]
    },
    {
      "cell_type": "code",
      "execution_count": null,
      "id": "a7b94b59",
      "metadata": {
        "id": "a7b94b59"
      },
      "outputs": [],
      "source": [
        "plt.plot(result.history[\"accuracy\"])\n",
        "plt.plot(result.history[\"val_accuracy\"])\n",
        "plt.title(\"Model Accuracy\")\n",
        "plt.ylabel(\"Accuuracy\")\n",
        "plt.xlabel(\"Epoch\")\n",
        "plt.legend([\"Train\", \"Test\"], loc=\"upper right\")\n",
        "plt.show()"
      ]
    },
    {
      "cell_type": "code",
      "execution_count": null,
      "id": "f6fb9896",
      "metadata": {
        "id": "f6fb9896"
      },
      "outputs": [],
      "source": [
        "model.save(\"mnist_classification_model_CNN.h5\")"
      ]
    },
    {
      "cell_type": "code",
      "execution_count": null,
      "id": "d10653a3",
      "metadata": {
        "id": "d10653a3"
      },
      "outputs": [],
      "source": [
        "my_model = load_model(\"mnist_classification_model_CNN.h5\")\n"
      ]
    },
    {
      "cell_type": "code",
      "execution_count": null,
      "id": "c5ac3c6f",
      "metadata": {
        "id": "c5ac3c6f"
      },
      "outputs": [],
      "source": []
    }
  ],
  "metadata": {
    "accelerator": "GPU",
    "colab": {
      "gpuType": "T4",
      "provenance": []
    },
    "kernelspec": {
      "display_name": "Python 3",
      "name": "python3"
    },
    "language_info": {
      "codemirror_mode": {
        "name": "ipython",
        "version": 3
      },
      "file_extension": ".py",
      "mimetype": "text/x-python",
      "name": "python",
      "nbconvert_exporter": "python",
      "pygments_lexer": "ipython3",
      "version": "3.9.12"
    }
  },
  "nbformat": 4,
  "nbformat_minor": 5
}