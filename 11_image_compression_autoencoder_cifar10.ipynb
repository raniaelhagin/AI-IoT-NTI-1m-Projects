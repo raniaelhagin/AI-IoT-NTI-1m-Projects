{
 "cells": [
  {
   "cell_type": "code",
   "execution_count": 1,
   "id": "a7280e46",
   "metadata": {
    "id": "a7280e46"
   },
   "outputs": [],
   "source": [
    "from IPython.display import display\n",
    "import pandas as pd\n",
    "import numpy as np\n",
    "import matplotlib.pyplot as plt\n",
    "import seaborn as sns\n",
    "\n",
    "from sklearn.compose import make_column_transformer\n",
    "from sklearn.preprocessing import StandardScaler\n",
    "\n",
    "from sklearn.model_selection import train_test_split\n",
    "from sklearn.linear_model import LinearRegression\n",
    "from sklearn.tree import DecisionTreeRegressor\n",
    "from sklearn.ensemble import RandomForestRegressor\n",
    "from sklearn.svm import SVC\n",
    "\n",
    "from sklearn.metrics import r2_score\n",
    "\n",
    "from keras.models import Sequential, load_model\n",
    "from keras.layers import Dense \n",
    "from keras.datasets import cifar10"
   ]
  },
  {
   "cell_type": "code",
   "execution_count": 3,
   "id": "ece7314e",
   "metadata": {
    "colab": {
     "base_uri": "https://localhost:8080/"
    },
    "id": "ece7314e",
    "outputId": "0236719a-74c4-4e9b-8720-d54dced5cdb1"
   },
   "outputs": [
    {
     "name": "stdout",
     "output_type": "stream",
     "text": [
      "Downloading data from https://www.cs.toronto.edu/~kriz/cifar-10-python.tar.gz\n",
      "170498071/170498071 [==============================] - 6s 0us/step\n"
     ]
    }
   ],
   "source": [
    "(X_train, y_train), (X_test, y_test) = cifar10.load_data()"
   ]
  },
  {
   "cell_type": "code",
   "execution_count": 4,
   "id": "26b3f8b2",
   "metadata": {
    "colab": {
     "base_uri": "https://localhost:8080/"
    },
    "id": "26b3f8b2",
    "outputId": "09cdf35e-1ef3-4d38-aba4-20c0090226e2"
   },
   "outputs": [
    {
     "data": {
      "text/plain": [
       "(50000, 32, 32, 3)"
      ]
     },
     "execution_count": 4,
     "metadata": {},
     "output_type": "execute_result"
    }
   ],
   "source": [
    "X_train.shape "
   ]
  },
  {
   "cell_type": "code",
   "execution_count": 5,
   "id": "0e8f6b57",
   "metadata": {
    "colab": {
     "base_uri": "https://localhost:8080/"
    },
    "id": "0e8f6b57",
    "outputId": "fcb736e4-3ab5-4321-d353-6cdf1290d72a"
   },
   "outputs": [
    {
     "data": {
      "text/plain": [
       "(50000, 1)"
      ]
     },
     "execution_count": 5,
     "metadata": {},
     "output_type": "execute_result"
    }
   ],
   "source": [
    "y_train.shape"
   ]
  },
  {
   "cell_type": "code",
   "execution_count": 6,
   "id": "418f3d1c",
   "metadata": {
    "colab": {
     "base_uri": "https://localhost:8080/"
    },
    "id": "418f3d1c",
    "outputId": "95da97e1-d091-459e-f688-510443ba5148"
   },
   "outputs": [
    {
     "data": {
      "text/plain": [
       "(10000, 32, 32, 3)"
      ]
     },
     "execution_count": 6,
     "metadata": {},
     "output_type": "execute_result"
    }
   ],
   "source": [
    "X_test.shape"
   ]
  },
  {
   "cell_type": "code",
   "execution_count": 7,
   "id": "7c065e96",
   "metadata": {
    "colab": {
     "base_uri": "https://localhost:8080/"
    },
    "id": "7c065e96",
    "outputId": "119c99d3-656d-491f-fe9d-b49f035914e0"
   },
   "outputs": [
    {
     "data": {
      "text/plain": [
       "(10000, 1)"
      ]
     },
     "execution_count": 7,
     "metadata": {},
     "output_type": "execute_result"
    }
   ],
   "source": [
    "y_test.shape"
   ]
  },
  {
   "cell_type": "code",
   "execution_count": 11,
   "id": "6dc3af9e",
   "metadata": {
    "colab": {
     "base_uri": "https://localhost:8080/",
     "height": 448
    },
    "id": "6dc3af9e",
    "outputId": "55c2639b-2019-4a40-a836-722758933c77"
   },
   "outputs": [
    {
     "data": {
      "text/plain": [
       "<matplotlib.image.AxesImage at 0x7f1534cc5fc0>"
      ]
     },
     "execution_count": 11,
     "metadata": {},
     "output_type": "execute_result"
    },
    {
     "data": {
      "image/png": "[encoded data removed]",
      "text/plain": [
       "<Figure size 640x480 with 1 Axes>"
      ]
     },
     "metadata": {},
     "output_type": "display_data"
    }
   ],
   "source": [
    "plt.imshow(X_train[5])"
   ]
  },
  {
   "cell_type": "markdown",
   "id": "4981ef7f",
   "metadata": {
    "id": "4981ef7f"
   },
   "source": [
    "### Data Preprocessing"
   ]
  },
  {
   "cell_type": "code",
   "execution_count": 12,
   "id": "40667455",
   "metadata": {
    "id": "40667455"
   },
   "outputs": [],
   "source": [
    "# Normalize and reeshape images \n",
    "X_train_final = X_train.reshape(-1, 32*32*3) / 255\n",
    "X_test_final = X_test.reshape(-1, 32*32*3) / 255"
   ]
  },
  {
   "cell_type": "code",
   "execution_count": 13,
   "id": "35239126",
   "metadata": {
    "colab": {
     "base_uri": "https://localhost:8080/"
    },
    "id": "35239126",
    "outputId": "a959342e-3973-4a1c-be09-a8d0ef446be3"
   },
   "outputs": [
    {
     "data": {
      "text/plain": [
       "(50000, 3072)"
      ]
     },
     "execution_count": 13,
     "metadata": {},
     "output_type": "execute_result"
    }
   ],
   "source": [
    "X_train_final.shape"
   ]
  },
  {
   "cell_type": "markdown",
   "id": "9f3662fc",
   "metadata": {
    "id": "9f3662fc"
   },
   "source": [
    "### Modelling"
   ]
  },
  {
   "cell_type": "code",
   "execution_count": 14,
   "id": "f3a008c3",
   "metadata": {
    "colab": {
     "base_uri": "https://localhost:8080/"
    },
    "id": "f3a008c3",
    "outputId": "f6761708-5b8a-448e-9bbb-19a451175f4d"
   },
   "outputs": [
    {
     "name": "stdout",
     "output_type": "stream",
     "text": [
      "Model: \"sequential\"\n",
      "_________________________________________________________________\n",
      " Layer (type)                Output Shape              Param #   \n",
      "=================================================================\n",
      " dense (Dense)               (None, 1024)              3146752   \n",
      "                                                                 \n",
      " dense_1 (Dense)             (None, 512)               524800    \n",
      "                                                                 \n",
      " dense_2 (Dense)             (None, 128)               65664     \n",
      "                                                                 \n",
      " dense_3 (Dense)             (None, 512)               66048     \n",
      "                                                                 \n",
      " dense_4 (Dense)             (None, 1024)              525312    \n",
      "                                                                 \n",
      " dense_5 (Dense)             (None, 3072)              3148800   \n",
      "                                                                 \n",
      "=================================================================\n",
      "Total params: 7,477,376\n",
      "Trainable params: 7,477,376\n",
      "Non-trainable params: 0\n",
      "_________________________________________________________________\n"
     ]
    }
   ],
   "source": [
    "model = Sequential()\n",
    "\n",
    "# Encoder layers\n",
    "model.add(Dense(1024, input_dim=3072, activation='relu'))\n",
    "model.add(Dense(512, activation='relu'))\n",
    "\n",
    "# Bottleneck layer\n",
    "model.add(Dense(128, activation='relu'))\n",
    "\n",
    "# Decoder layers\n",
    "model.add(Dense(512, activation='relu'))\n",
    "model.add(Dense(1024, activation='relu'))\n",
    "\n",
    "# output layer\n",
    "model.add(Dense(3072, activation='softmax'))\n",
    "\n",
    "model.summary()"
   ]
  },
  {
   "cell_type": "code",
   "execution_count": 15,
   "id": "ec39d352",
   "metadata": {
    "id": "ec39d352"
   },
   "outputs": [],
   "source": [
    "model.compile(loss=\"BinaryCrossentropy\", optimizer=\"Adam\")"
   ]
  },
  {
   "cell_type": "code",
   "execution_count": 16,
   "id": "7077bdf5",
   "metadata": {
    "colab": {
     "base_uri": "https://localhost:8080/"
    },
    "id": "7077bdf5",
    "outputId": "cad087b5-483b-4344-bd58-6f901585c992"
   },
   "outputs": [
    {
     "name": "stdout",
     "output_type": "stream",
     "text": [
      "Epoch 1/50\n",
      "1563/1563 [==============================] - 15s 6ms/step - loss: 0.6128 - val_loss: 0.6010\n",
      "Epoch 2/50\n",
      "1563/1563 [==============================] - 8s 5ms/step - loss: 0.5952 - val_loss: 0.5938\n",
      "Epoch 3/50\n",
      "1563/1563 [==============================] - 8s 5ms/step - loss: 0.5910 - val_loss: 0.5915\n",
      "Epoch 4/50\n",
      "1563/1563 [==============================] - 8s 5ms/step - loss: 0.5902 - val_loss: 0.5912\n",
      "Epoch 5/50\n",
      "1563/1563 [==============================] - 10s 7ms/step - loss: 0.5898 - val_loss: 0.5906\n",
      "Epoch 6/50\n",
      "1563/1563 [==============================] - 8s 5ms/step - loss: 0.5893 - val_loss: 0.5901\n",
      "Epoch 7/50\n",
      "1563/1563 [==============================] - 9s 6ms/step - loss: 0.5886 - val_loss: 0.5905\n",
      "Epoch 8/50\n",
      "1563/1563 [==============================] - 8s 5ms/step - loss: 0.5882 - val_loss: 0.5895\n",
      "Epoch 9/50\n",
      "1563/1563 [==============================] - 8s 5ms/step - loss: 0.5880 - val_loss: 0.5898\n",
      "Epoch 10/50\n",
      "1563/1563 [==============================] - 8s 5ms/step - loss: 0.5878 - val_loss: 0.5891\n",
      "Epoch 11/50\n",
      "1563/1563 [==============================] - 8s 5ms/step - loss: 0.5876 - val_loss: 0.5895\n",
      "Epoch 12/50\n",
      "1563/1563 [==============================] - 8s 5ms/step - loss: 0.5874 - val_loss: 0.5894\n",
      "Epoch 13/50\n",
      "1563/1563 [==============================] - 8s 5ms/step - loss: 0.5873 - val_loss: 0.5902\n",
      "Epoch 14/50\n",
      "1563/1563 [==============================] - 8s 5ms/step - loss: 0.5871 - val_loss: 0.5895\n",
      "Epoch 15/50\n",
      "1563/1563 [==============================] - 8s 5ms/step - loss: 0.5870 - val_loss: 0.5901\n",
      "Epoch 16/50\n",
      "1563/1563 [==============================] - 9s 5ms/step - loss: 0.5869 - val_loss: 0.5895\n",
      "Epoch 17/50\n",
      "1563/1563 [==============================] - 9s 6ms/step - loss: 0.5868 - val_loss: 0.5893\n",
      "Epoch 18/50\n",
      "1563/1563 [==============================] - 8s 5ms/step - loss: 0.5866 - val_loss: 0.5897\n",
      "Epoch 19/50\n",
      "1563/1563 [==============================] - 9s 6ms/step - loss: 0.5866 - val_loss: 0.5897\n",
      "Epoch 20/50\n",
      "1563/1563 [==============================] - 15s 10ms/step - loss: 0.5865 - val_loss: 0.5894\n",
      "Epoch 21/50\n",
      "1563/1563 [==============================] - 11s 7ms/step - loss: 0.5864 - val_loss: 0.5895\n",
      "Epoch 22/50\n",
      "1563/1563 [==============================] - 8s 5ms/step - loss: 0.5863 - val_loss: 0.5898\n",
      "Epoch 23/50\n",
      "1563/1563 [==============================] - 8s 5ms/step - loss: 0.5862 - val_loss: 0.5897\n",
      "Epoch 24/50\n",
      "1563/1563 [==============================] - 8s 5ms/step - loss: 0.5861 - val_loss: 0.5895\n",
      "Epoch 25/50\n",
      "1563/1563 [==============================] - 7s 5ms/step - loss: 0.5860 - val_loss: 0.5896\n",
      "Epoch 26/50\n",
      "1563/1563 [==============================] - 8s 5ms/step - loss: 0.5859 - val_loss: 0.5895\n",
      "Epoch 27/50\n",
      "1563/1563 [==============================] - 8s 5ms/step - loss: 0.5858 - val_loss: 0.5895\n",
      "Epoch 28/50\n",
      "1563/1563 [==============================] - 8s 5ms/step - loss: 0.5857 - val_loss: 0.5902\n",
      "Epoch 29/50\n",
      "1563/1563 [==============================] - 9s 6ms/step - loss: 0.5856 - val_loss: 0.5898\n",
      "Epoch 30/50\n",
      "1563/1563 [==============================] - 7s 5ms/step - loss: 0.5856 - val_loss: 0.5899\n",
      "Epoch 31/50\n",
      "1563/1563 [==============================] - 8s 5ms/step - loss: 0.5855 - val_loss: 0.5899\n",
      "Epoch 32/50\n",
      "1563/1563 [==============================] - 8s 5ms/step - loss: 0.5854 - val_loss: 0.5898\n",
      "Epoch 33/50\n",
      "1563/1563 [==============================] - 7s 5ms/step - loss: 0.5853 - val_loss: 0.5898\n",
      "Epoch 34/50\n",
      "1563/1563 [==============================] - 8s 5ms/step - loss: 0.5852 - val_loss: 0.5903\n",
      "Epoch 35/50\n",
      "1563/1563 [==============================] - 8s 5ms/step - loss: 0.5852 - val_loss: 0.5901\n",
      "Epoch 36/50\n",
      "1563/1563 [==============================] - 7s 5ms/step - loss: 0.5851 - val_loss: 0.5901\n",
      "Epoch 37/50\n",
      "1563/1563 [==============================] - 8s 5ms/step - loss: 0.5851 - val_loss: 0.5899\n",
      "Epoch 38/50\n",
      "1563/1563 [==============================] - 8s 5ms/step - loss: 0.5850 - val_loss: 0.5898\n",
      "Epoch 39/50\n",
      "1563/1563 [==============================] - 8s 5ms/step - loss: 0.5849 - val_loss: 0.5899\n",
      "Epoch 40/50\n",
      "1563/1563 [==============================] - 8s 5ms/step - loss: 0.5849 - val_loss: 0.5899\n",
      "Epoch 41/50\n",
      "1563/1563 [==============================] - 7s 5ms/step - loss: 0.5848 - val_loss: 0.5902\n",
      "Epoch 42/50\n",
      "1563/1563 [==============================] - 8s 5ms/step - loss: 0.5848 - val_loss: 0.5900\n",
      "Epoch 43/50\n",
      "1563/1563 [==============================] - 9s 6ms/step - loss: 0.5847 - val_loss: 0.5902\n",
      "Epoch 44/50\n",
      "1563/1563 [==============================] - 7s 5ms/step - loss: 0.5847 - val_loss: 0.5904\n",
      "Epoch 45/50\n",
      "1563/1563 [==============================] - 8s 5ms/step - loss: 0.5846 - val_loss: 0.5907\n",
      "Epoch 46/50\n",
      "1563/1563 [==============================] - 9s 5ms/step - loss: 0.5845 - val_loss: 0.5899\n",
      "Epoch 47/50\n",
      "1563/1563 [==============================] - 7s 5ms/step - loss: 0.5845 - val_loss: 0.5904\n",
      "Epoch 48/50\n",
      "1563/1563 [==============================] - 8s 5ms/step - loss: 0.5844 - val_loss: 0.5906\n",
      "Epoch 49/50\n",
      "1563/1563 [==============================] - 8s 5ms/step - loss: 0.5844 - val_loss: 0.5909\n",
      "Epoch 50/50\n",
      "1563/1563 [==============================] - 8s 5ms/step - loss: 0.5843 - val_loss: 0.5902\n"
     ]
    }
   ],
   "source": [
    "result = model.fit(X_train_final, X_train_final, verbose=1, epochs=50, validation_data=(X_test_final, X_test_final))"
   ]
  },
  {
   "cell_type": "code",
   "execution_count": 17,
   "id": "716ad17a",
   "metadata": {
    "colab": {
     "base_uri": "https://localhost:8080/",
     "height": 472
    },
    "id": "716ad17a",
    "outputId": "206adabb-281b-44ae-e11a-787b8007f05e"
   },
   "outputs": [
    {
     "data": {
      "image/png": "[encoded data removed]",
      "text/plain": [
       "<Figure size 640x480 with 1 Axes>"
      ]
     },
     "metadata": {},
     "output_type": "display_data"
    }
   ],
   "source": [
    "plt.plot(result.history[\"loss\"])\n",
    "plt.plot(result.history[\"val_loss\"])\n",
    "plt.title(\"Model Loss\")\n",
    "plt.ylabel(\"Loss\")\n",
    "plt.xlabel(\"Epoch\")\n",
    "plt.legend([\"Train\", \"Test\"], loc=\"upper right\")\n",
    "plt.show()"
   ]
  },
  {
   "cell_type": "code",
   "execution_count": 18,
   "id": "f6fb9896",
   "metadata": {
    "id": "f6fb9896"
   },
   "outputs": [],
   "source": [
    "model.save(\"models/image_compression_autoencoder_model_cifar10.h5\")"
   ]
  },
  {
   "cell_type": "code",
   "execution_count": 19,
   "id": "d10653a3",
   "metadata": {
    "colab": {
     "base_uri": "https://localhost:8080/"
    },
    "id": "d10653a3",
    "outputId": "e7476528-2143-4e9e-fe16-f884402324d2"
   },
   "outputs": [
    {
     "name": "stdout",
     "output_type": "stream",
     "text": [
      "313/313 [==============================] - 1s 3ms/step\n"
     ]
    }
   ],
   "source": [
    "my_model = load_model(\"models/image_compression_autoencoder_model_cifar10.h5\")\n",
    "predict = my_model.predict(X_test_final)"
   ]
  },
  {
   "cell_type": "code",
   "execution_count": 23,
   "id": "c5ac3c6f",
   "metadata": {
    "colab": {
     "base_uri": "https://localhost:8080/",
     "height": 843
    },
    "id": "c5ac3c6f",
    "outputId": "71180ed2-22fd-490d-cdcc-b326117886b0"
   },
   "outputs": [
    {
     "data": {
      "image/png": "[encoded data removed]",
      "text/plain": [
       "<Figure size 640x480 with 1 Axes>"
      ]
     },
     "metadata": {},
     "output_type": "display_data"
    },
    {
     "data": {
      "image/png": "[encoded data removed]",
      "text/plain": [
       "<Figure size 640x480 with 1 Axes>"
      ]
     },
     "metadata": {},
     "output_type": "display_data"
    }
   ],
   "source": [
    "plt.imshow(X_test_final[2].reshape(32, 32, 3))\n",
    "plt.show()\n",
    "plt.imshow(predict[2].reshape(32, 32, 3))\n",
    "plt.show()"
   ]
  },
  {
   "cell_type": "markdown",
   "id": "6a98dfb2",
   "metadata": {
    "id": "OQ7532uI3Z9f"
   },
   "source": [
    "The NN model does not success in image comression"
   ]
  },
  {
   "cell_type": "code",
   "execution_count": null,
   "id": "922cdc4e",
   "metadata": {},
   "outputs": [],
   "source": []
  }
 ],
 "metadata": {
  "accelerator": "GPU",
  "colab": {
   "gpuType": "T4",
   "provenance": []
  },
  "gpuClass": "standard",
  "kernelspec": {
   "display_name": "Python 3 (ipykernel)",
   "language": "python",
   "name": "python3"
  },
  "language_info": {
   "codemirror_mode": {
    "name": "ipython",
    "version": 3
   },
   "file_extension": ".py",
   "mimetype": "text/x-python",
   "name": "python",
   "nbconvert_exporter": "python",
   "pygments_lexer": "ipython3",
   "version": "3.9.12"
  }
 },
 "nbformat": 4,
 "nbformat_minor": 5
}
