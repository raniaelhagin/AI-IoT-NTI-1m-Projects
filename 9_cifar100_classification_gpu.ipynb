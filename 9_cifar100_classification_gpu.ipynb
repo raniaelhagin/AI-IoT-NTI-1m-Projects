{
  "cells": [
    {
      "cell_type": "code",
      "execution_count": 1,
      "id": "adfa641e",
      "metadata": {
        "id": "adfa641e"
      },
      "outputs": [],
      "source": [
        "from IPython.display import display\n",
        "import pandas as pd\n",
        "import numpy as np\n",
        "import matplotlib.pyplot as plt\n",
        "import seaborn as sns\n",
        "\n",
        "from sklearn.compose import make_column_transformer\n",
        "from sklearn.preprocessing import StandardScaler\n",
        "\n",
        "from sklearn.model_selection import train_test_split\n",
        "from sklearn.linear_model import LinearRegression\n",
        "from sklearn.tree import DecisionTreeRegressor\n",
        "from sklearn.ensemble import RandomForestRegressor\n",
        "from sklearn.svm import SVC\n",
        "\n",
        "from sklearn.metrics import r2_score\n",
        "\n",
        "from tensorflow.keras.optimizers import Adam\n",
        "from tensorflow.keras.losses import BinaryCrossentropy, MeanAbsoluteError\n",
        "from keras.models import Sequential, load_model\n",
        "from keras.layers import Dense \n",
        "\n",
        "from keras.datasets import cifar100"
      ]
    },
    {
      "cell_type": "code",
      "execution_count": 2,
      "id": "eac00420",
      "metadata": {
        "colab": {
          "base_uri": "https://localhost:8080/"
        },
        "id": "eac00420",
        "outputId": "a70e361c-6889-4016-a49c-0a3eed2cef92"
      },
      "outputs": [
        {
          "output_type": "stream",
          "name": "stdout",
          "text": [
            "Downloading data from https://www.cs.toronto.edu/~kriz/cifar-100-python.tar.gz\n",
            "169001437/169001437 [==============================] - 2s 0us/step\n"
          ]
        }
      ],
      "source": [
        "(X_train, y_train), (X_test, y_test) = cifar100.load_data()"
      ]
    },
    {
      "cell_type": "code",
      "execution_count": 3,
      "id": "efc926c4",
      "metadata": {
        "colab": {
          "base_uri": "https://localhost:8080/"
        },
        "id": "efc926c4",
        "outputId": "3c9cdebf-6646-4d7e-cd96-44ee2b68c48e"
      },
      "outputs": [
        {
          "output_type": "execute_result",
          "data": {
            "text/plain": [
              "(50000, 32, 32, 3)"
            ]
          },
          "metadata": {},
          "execution_count": 3
        }
      ],
      "source": [
        "X_train.shape "
      ]
    },
    {
      "cell_type": "code",
      "execution_count": 4,
      "id": "43c91edd",
      "metadata": {
        "colab": {
          "base_uri": "https://localhost:8080/"
        },
        "id": "43c91edd",
        "outputId": "f546d449-ab3e-4d46-b861-825d96f97adb"
      },
      "outputs": [
        {
          "output_type": "execute_result",
          "data": {
            "text/plain": [
              "(50000, 1)"
            ]
          },
          "metadata": {},
          "execution_count": 4
        }
      ],
      "source": [
        "y_train.shape"
      ]
    },
    {
      "cell_type": "code",
      "execution_count": 5,
      "id": "45799112",
      "metadata": {
        "colab": {
          "base_uri": "https://localhost:8080/"
        },
        "id": "45799112",
        "outputId": "0278608c-9f22-44a7-a831-038daf7c96d2"
      },
      "outputs": [
        {
          "output_type": "execute_result",
          "data": {
            "text/plain": [
              "(10000, 32, 32, 3)"
            ]
          },
          "metadata": {},
          "execution_count": 5
        }
      ],
      "source": [
        "X_test.shape"
      ]
    },
    {
      "cell_type": "code",
      "execution_count": 6,
      "id": "3f82a3f9",
      "metadata": {
        "colab": {
          "base_uri": "https://localhost:8080/"
        },
        "id": "3f82a3f9",
        "outputId": "e451867d-130e-427d-977d-45a9913ffc15"
      },
      "outputs": [
        {
          "output_type": "execute_result",
          "data": {
            "text/plain": [
              "(10000, 1)"
            ]
          },
          "metadata": {},
          "execution_count": 6
        }
      ],
      "source": [
        "y_test.shape"
      ]
    },
    {
      "cell_type": "markdown",
      "id": "30bca2e5",
      "metadata": {
        "id": "30bca2e5"
      },
      "source": [
        "### Data Preprocessing"
      ]
    },
    {
      "cell_type": "code",
      "execution_count": 7,
      "id": "8e4525b5",
      "metadata": {
        "id": "8e4525b5"
      },
      "outputs": [],
      "source": [
        "# Normalize and reeshape images \n",
        "X_train_final = X_train.reshape(-1, 32*32*3) / 255\n",
        "X_test_final = X_test.reshape(-1, 32*32*3) / 255"
      ]
    },
    {
      "cell_type": "code",
      "execution_count": 8,
      "id": "973f0c4f",
      "metadata": {
        "colab": {
          "base_uri": "https://localhost:8080/"
        },
        "id": "973f0c4f",
        "outputId": "e5da39c3-bf76-4b0b-c40e-34ae580ff216"
      },
      "outputs": [
        {
          "output_type": "execute_result",
          "data": {
            "text/plain": [
              "(50000, 3072)"
            ]
          },
          "metadata": {},
          "execution_count": 8
        }
      ],
      "source": [
        "X_train_final.shape"
      ]
    },
    {
      "cell_type": "markdown",
      "id": "e98ef903",
      "metadata": {
        "id": "e98ef903"
      },
      "source": [
        "### Modelling"
      ]
    },
    {
      "cell_type": "code",
      "execution_count": 12,
      "id": "e6d8cae5",
      "metadata": {
        "colab": {
          "base_uri": "https://localhost:8080/"
        },
        "id": "e6d8cae5",
        "outputId": "4c9a9889-4400-452c-bff2-7693b2f546f0"
      },
      "outputs": [
        {
          "output_type": "stream",
          "name": "stdout",
          "text": [
            "Model: \"sequential_1\"\n",
            "_________________________________________________________________\n",
            " Layer (type)                Output Shape              Param #   \n",
            "=================================================================\n",
            " dense_4 (Dense)             (None, 512)               1573376   \n",
            "                                                                 \n",
            " dense_5 (Dense)             (None, 128)               65664     \n",
            "                                                                 \n",
            " dense_6 (Dense)             (None, 100)               12900     \n",
            "                                                                 \n",
            "=================================================================\n",
            "Total params: 1,651,940\n",
            "Trainable params: 1,651,940\n",
            "Non-trainable params: 0\n",
            "_________________________________________________________________\n"
          ]
        }
      ],
      "source": [
        "model = Sequential()\n",
        "model.add(Dense(512, input_dim=3072, activation='relu'))\n",
        "model.add(Dense(128, activation='relu'))\n",
        "model.add(Dense(100, activation='softmax'))\n",
        "model.summary()"
      ]
    },
    {
      "cell_type": "code",
      "execution_count": 13,
      "id": "4351066c",
      "metadata": {
        "id": "4351066c"
      },
      "outputs": [],
      "source": [
        "model.compile(loss=\"SparseCategoricalCrossentropy\", optimizer=\"Adam\", metrics=[\"accuracy\"])"
      ]
    },
    {
      "cell_type": "code",
      "execution_count": 14,
      "id": "f4621e03",
      "metadata": {
        "colab": {
          "base_uri": "https://localhost:8080/"
        },
        "id": "f4621e03",
        "outputId": "ab418247-cbbe-425c-e79e-bf9bc8345284"
      },
      "outputs": [
        {
          "output_type": "stream",
          "name": "stdout",
          "text": [
            "Epoch 1/100\n",
            "1563/1563 [==============================] - 7s 4ms/step - loss: 4.4162 - accuracy: 0.0301 - val_loss: 4.1457 - val_accuracy: 0.0582\n",
            "Epoch 2/100\n",
            "1563/1563 [==============================] - 6s 4ms/step - loss: 3.9597 - accuracy: 0.0862 - val_loss: 3.8753 - val_accuracy: 0.1019\n",
            "Epoch 3/100\n",
            "1563/1563 [==============================] - 5s 3ms/step - loss: 3.7707 - accuracy: 0.1184 - val_loss: 3.7343 - val_accuracy: 0.1237\n",
            "Epoch 4/100\n",
            "1563/1563 [==============================] - 6s 4ms/step - loss: 3.6668 - accuracy: 0.1359 - val_loss: 3.6386 - val_accuracy: 0.1460\n",
            "Epoch 5/100\n",
            "1563/1563 [==============================] - 5s 3ms/step - loss: 3.5907 - accuracy: 0.1504 - val_loss: 3.6333 - val_accuracy: 0.1461\n",
            "Epoch 6/100\n",
            "1563/1563 [==============================] - 5s 3ms/step - loss: 3.5314 - accuracy: 0.1602 - val_loss: 3.6467 - val_accuracy: 0.1438\n",
            "Epoch 7/100\n",
            "1563/1563 [==============================] - 6s 4ms/step - loss: 3.4821 - accuracy: 0.1712 - val_loss: 3.5249 - val_accuracy: 0.1694\n",
            "Epoch 8/100\n",
            "1563/1563 [==============================] - 5s 3ms/step - loss: 3.4329 - accuracy: 0.1800 - val_loss: 3.5441 - val_accuracy: 0.1656\n",
            "Epoch 9/100\n",
            "1563/1563 [==============================] - 6s 4ms/step - loss: 3.3908 - accuracy: 0.1871 - val_loss: 3.4929 - val_accuracy: 0.1742\n",
            "Epoch 10/100\n",
            "1563/1563 [==============================] - 5s 3ms/step - loss: 3.3583 - accuracy: 0.1954 - val_loss: 3.4598 - val_accuracy: 0.1817\n",
            "Epoch 11/100\n",
            "1563/1563 [==============================] - 6s 4ms/step - loss: 3.3292 - accuracy: 0.2002 - val_loss: 3.4161 - val_accuracy: 0.1921\n",
            "Epoch 12/100\n",
            "1563/1563 [==============================] - 5s 3ms/step - loss: 3.3069 - accuracy: 0.2007 - val_loss: 3.4222 - val_accuracy: 0.1906\n",
            "Epoch 13/100\n",
            "1563/1563 [==============================] - 6s 4ms/step - loss: 3.2862 - accuracy: 0.2063 - val_loss: 3.4182 - val_accuracy: 0.1932\n",
            "Epoch 14/100\n",
            "1563/1563 [==============================] - 5s 3ms/step - loss: 3.2595 - accuracy: 0.2111 - val_loss: 3.4045 - val_accuracy: 0.1954\n",
            "Epoch 15/100\n",
            "1563/1563 [==============================] - 6s 4ms/step - loss: 3.2417 - accuracy: 0.2127 - val_loss: 3.4780 - val_accuracy: 0.1847\n",
            "Epoch 16/100\n",
            "1563/1563 [==============================] - 5s 3ms/step - loss: 3.2161 - accuracy: 0.2202 - val_loss: 3.4395 - val_accuracy: 0.1897\n",
            "Epoch 17/100\n",
            "1563/1563 [==============================] - 5s 3ms/step - loss: 3.1984 - accuracy: 0.2215 - val_loss: 3.4183 - val_accuracy: 0.1930\n",
            "Epoch 18/100\n",
            "1563/1563 [==============================] - 6s 4ms/step - loss: 3.1834 - accuracy: 0.2240 - val_loss: 3.4041 - val_accuracy: 0.2022\n",
            "Epoch 19/100\n",
            "1563/1563 [==============================] - 5s 3ms/step - loss: 3.1734 - accuracy: 0.2285 - val_loss: 3.4190 - val_accuracy: 0.1961\n",
            "Epoch 20/100\n",
            "1563/1563 [==============================] - 6s 4ms/step - loss: 3.1546 - accuracy: 0.2307 - val_loss: 3.4736 - val_accuracy: 0.1916\n",
            "Epoch 21/100\n",
            "1563/1563 [==============================] - 5s 3ms/step - loss: 3.1424 - accuracy: 0.2319 - val_loss: 3.4336 - val_accuracy: 0.1972\n",
            "Epoch 22/100\n",
            "1563/1563 [==============================] - 6s 4ms/step - loss: 3.1337 - accuracy: 0.2333 - val_loss: 3.4422 - val_accuracy: 0.1994\n",
            "Epoch 23/100\n",
            "1563/1563 [==============================] - 5s 3ms/step - loss: 3.1137 - accuracy: 0.2370 - val_loss: 3.4074 - val_accuracy: 0.2032\n",
            "Epoch 24/100\n",
            "1563/1563 [==============================] - 6s 4ms/step - loss: 3.1038 - accuracy: 0.2409 - val_loss: 3.4459 - val_accuracy: 0.2029\n",
            "Epoch 25/100\n",
            "1563/1563 [==============================] - 5s 3ms/step - loss: 3.0924 - accuracy: 0.2415 - val_loss: 3.4712 - val_accuracy: 0.2006\n",
            "Epoch 26/100\n",
            "1563/1563 [==============================] - 5s 3ms/step - loss: 3.0822 - accuracy: 0.2438 - val_loss: 3.4469 - val_accuracy: 0.2038\n",
            "Epoch 27/100\n",
            "1563/1563 [==============================] - 6s 4ms/step - loss: 3.0702 - accuracy: 0.2450 - val_loss: 3.4448 - val_accuracy: 0.2046\n",
            "Epoch 28/100\n",
            "1563/1563 [==============================] - 5s 3ms/step - loss: 3.0607 - accuracy: 0.2461 - val_loss: 3.4645 - val_accuracy: 0.2027\n",
            "Epoch 29/100\n",
            "1563/1563 [==============================] - 6s 4ms/step - loss: 3.0509 - accuracy: 0.2511 - val_loss: 3.5238 - val_accuracy: 0.1993\n",
            "Epoch 30/100\n",
            "1563/1563 [==============================] - 5s 3ms/step - loss: 3.0433 - accuracy: 0.2493 - val_loss: 3.5447 - val_accuracy: 0.1981\n",
            "Epoch 31/100\n",
            "1563/1563 [==============================] - 6s 4ms/step - loss: 3.0243 - accuracy: 0.2531 - val_loss: 3.5067 - val_accuracy: 0.2062\n",
            "Epoch 32/100\n",
            "1563/1563 [==============================] - 5s 3ms/step - loss: 3.0229 - accuracy: 0.2538 - val_loss: 3.6082 - val_accuracy: 0.1890\n",
            "Epoch 33/100\n",
            "1563/1563 [==============================] - 6s 4ms/step - loss: 3.0111 - accuracy: 0.2566 - val_loss: 3.5956 - val_accuracy: 0.1940\n",
            "Epoch 34/100\n",
            "1563/1563 [==============================] - 5s 3ms/step - loss: 2.9993 - accuracy: 0.2603 - val_loss: 3.5185 - val_accuracy: 0.1977\n",
            "Epoch 35/100\n",
            "1563/1563 [==============================] - 6s 4ms/step - loss: 2.9878 - accuracy: 0.2608 - val_loss: 3.5334 - val_accuracy: 0.1978\n",
            "Epoch 36/100\n",
            "1563/1563 [==============================] - 5s 3ms/step - loss: 2.9858 - accuracy: 0.2609 - val_loss: 3.4936 - val_accuracy: 0.1999\n",
            "Epoch 37/100\n",
            "1563/1563 [==============================] - 6s 4ms/step - loss: 2.9789 - accuracy: 0.2625 - val_loss: 3.5705 - val_accuracy: 0.1989\n",
            "Epoch 38/100\n",
            "1563/1563 [==============================] - 5s 3ms/step - loss: 2.9677 - accuracy: 0.2656 - val_loss: 3.5501 - val_accuracy: 0.2044\n",
            "Epoch 39/100\n",
            "1563/1563 [==============================] - 6s 4ms/step - loss: 2.9575 - accuracy: 0.2667 - val_loss: 3.5863 - val_accuracy: 0.1992\n",
            "Epoch 40/100\n",
            "1563/1563 [==============================] - 5s 3ms/step - loss: 2.9519 - accuracy: 0.2671 - val_loss: 3.6045 - val_accuracy: 0.1990\n",
            "Epoch 41/100\n",
            "1563/1563 [==============================] - 6s 4ms/step - loss: 2.9494 - accuracy: 0.2670 - val_loss: 3.5656 - val_accuracy: 0.2053\n",
            "Epoch 42/100\n",
            "1563/1563 [==============================] - 5s 3ms/step - loss: 2.9394 - accuracy: 0.2690 - val_loss: 3.6807 - val_accuracy: 0.1941\n",
            "Epoch 43/100\n",
            "1563/1563 [==============================] - 5s 3ms/step - loss: 2.9369 - accuracy: 0.2691 - val_loss: 3.6918 - val_accuracy: 0.1924\n",
            "Epoch 44/100\n",
            "1563/1563 [==============================] - 5s 3ms/step - loss: 2.9315 - accuracy: 0.2706 - val_loss: 3.6734 - val_accuracy: 0.1987\n",
            "Epoch 45/100\n",
            "1563/1563 [==============================] - 5s 3ms/step - loss: 2.9207 - accuracy: 0.2731 - val_loss: 3.6191 - val_accuracy: 0.2026\n",
            "Epoch 46/100\n",
            "1563/1563 [==============================] - 5s 4ms/step - loss: 2.9170 - accuracy: 0.2739 - val_loss: 3.7455 - val_accuracy: 0.2036\n",
            "Epoch 47/100\n",
            "1563/1563 [==============================] - 6s 4ms/step - loss: 2.9113 - accuracy: 0.2773 - val_loss: 3.6310 - val_accuracy: 0.2012\n",
            "Epoch 48/100\n",
            "1563/1563 [==============================] - 6s 4ms/step - loss: 2.9059 - accuracy: 0.2768 - val_loss: 3.7542 - val_accuracy: 0.2033\n",
            "Epoch 49/100\n",
            "1563/1563 [==============================] - 5s 3ms/step - loss: 2.8992 - accuracy: 0.2766 - val_loss: 3.6799 - val_accuracy: 0.2053\n",
            "Epoch 50/100\n",
            "1563/1563 [==============================] - 5s 4ms/step - loss: 2.8977 - accuracy: 0.2762 - val_loss: 3.6968 - val_accuracy: 0.2046\n",
            "Epoch 51/100\n",
            "1563/1563 [==============================] - 5s 3ms/step - loss: 2.8869 - accuracy: 0.2796 - val_loss: 3.6648 - val_accuracy: 0.2042\n",
            "Epoch 52/100\n",
            "1563/1563 [==============================] - 6s 4ms/step - loss: 2.8787 - accuracy: 0.2812 - val_loss: 3.7611 - val_accuracy: 0.2057\n",
            "Epoch 53/100\n",
            "1563/1563 [==============================] - 5s 3ms/step - loss: 2.8793 - accuracy: 0.2823 - val_loss: 3.8816 - val_accuracy: 0.1996\n",
            "Epoch 54/100\n",
            "1563/1563 [==============================] - 6s 4ms/step - loss: 2.8741 - accuracy: 0.2822 - val_loss: 3.6918 - val_accuracy: 0.1987\n",
            "Epoch 55/100\n",
            "1563/1563 [==============================] - 5s 3ms/step - loss: 2.8747 - accuracy: 0.2827 - val_loss: 3.7500 - val_accuracy: 0.2048\n",
            "Epoch 56/100\n",
            "1563/1563 [==============================] - 6s 4ms/step - loss: 2.8696 - accuracy: 0.2834 - val_loss: 3.6951 - val_accuracy: 0.2067\n",
            "Epoch 57/100\n",
            "1563/1563 [==============================] - 5s 3ms/step - loss: 2.8606 - accuracy: 0.2862 - val_loss: 3.9009 - val_accuracy: 0.2008\n",
            "Epoch 58/100\n",
            "1563/1563 [==============================] - 5s 4ms/step - loss: 2.8651 - accuracy: 0.2824 - val_loss: 3.8082 - val_accuracy: 0.1993\n",
            "Epoch 59/100\n",
            "1563/1563 [==============================] - 5s 3ms/step - loss: 2.8502 - accuracy: 0.2876 - val_loss: 3.8043 - val_accuracy: 0.2028\n",
            "Epoch 60/100\n",
            "1563/1563 [==============================] - 5s 3ms/step - loss: 2.8499 - accuracy: 0.2843 - val_loss: 3.9447 - val_accuracy: 0.1941\n",
            "Epoch 61/100\n",
            "1563/1563 [==============================] - 5s 3ms/step - loss: 2.8492 - accuracy: 0.2845 - val_loss: 3.8948 - val_accuracy: 0.1991\n",
            "Epoch 62/100\n",
            "1563/1563 [==============================] - 5s 3ms/step - loss: 2.8412 - accuracy: 0.2895 - val_loss: 3.8666 - val_accuracy: 0.1952\n",
            "Epoch 63/100\n",
            "1563/1563 [==============================] - 6s 4ms/step - loss: 2.8334 - accuracy: 0.2898 - val_loss: 3.7440 - val_accuracy: 0.2040\n",
            "Epoch 64/100\n",
            "1563/1563 [==============================] - 5s 3ms/step - loss: 2.8291 - accuracy: 0.2922 - val_loss: 3.8565 - val_accuracy: 0.2077\n",
            "Epoch 65/100\n",
            "1563/1563 [==============================] - 6s 4ms/step - loss: 2.8270 - accuracy: 0.2902 - val_loss: 3.8622 - val_accuracy: 0.1979\n",
            "Epoch 66/100\n",
            "1563/1563 [==============================] - 5s 3ms/step - loss: 2.8235 - accuracy: 0.2919 - val_loss: 3.8936 - val_accuracy: 0.2013\n",
            "Epoch 67/100\n",
            "1563/1563 [==============================] - 6s 4ms/step - loss: 2.8262 - accuracy: 0.2908 - val_loss: 4.0197 - val_accuracy: 0.1987\n",
            "Epoch 68/100\n",
            "1563/1563 [==============================] - 5s 3ms/step - loss: 2.8158 - accuracy: 0.2936 - val_loss: 3.9660 - val_accuracy: 0.2008\n",
            "Epoch 69/100\n",
            "1563/1563 [==============================] - 6s 4ms/step - loss: 2.8150 - accuracy: 0.2938 - val_loss: 3.9636 - val_accuracy: 0.2004\n",
            "Epoch 70/100\n",
            "1563/1563 [==============================] - 5s 3ms/step - loss: 2.8096 - accuracy: 0.2963 - val_loss: 4.2125 - val_accuracy: 0.1998\n",
            "Epoch 71/100\n",
            "1563/1563 [==============================] - 5s 4ms/step - loss: 2.8052 - accuracy: 0.2941 - val_loss: 4.0782 - val_accuracy: 0.2054\n",
            "Epoch 72/100\n",
            "1563/1563 [==============================] - 5s 3ms/step - loss: 2.8023 - accuracy: 0.2972 - val_loss: 4.1139 - val_accuracy: 0.1956\n",
            "Epoch 73/100\n",
            "1563/1563 [==============================] - 6s 4ms/step - loss: 2.7991 - accuracy: 0.2973 - val_loss: 4.0495 - val_accuracy: 0.2020\n",
            "Epoch 74/100\n",
            "1563/1563 [==============================] - 5s 3ms/step - loss: 2.7935 - accuracy: 0.2982 - val_loss: 3.9485 - val_accuracy: 0.2067\n",
            "Epoch 75/100\n",
            "1563/1563 [==============================] - 5s 3ms/step - loss: 2.7962 - accuracy: 0.2984 - val_loss: 4.0295 - val_accuracy: 0.2019\n",
            "Epoch 76/100\n",
            "1563/1563 [==============================] - 5s 3ms/step - loss: 2.7898 - accuracy: 0.2991 - val_loss: 4.0594 - val_accuracy: 0.2063\n",
            "Epoch 77/100\n",
            "1563/1563 [==============================] - 5s 3ms/step - loss: 2.7902 - accuracy: 0.2986 - val_loss: 4.0117 - val_accuracy: 0.2061\n",
            "Epoch 78/100\n",
            "1563/1563 [==============================] - 6s 4ms/step - loss: 2.7951 - accuracy: 0.2992 - val_loss: 4.1096 - val_accuracy: 0.2021\n",
            "Epoch 79/100\n",
            "1563/1563 [==============================] - 5s 3ms/step - loss: 2.7797 - accuracy: 0.2989 - val_loss: 4.0734 - val_accuracy: 0.1929\n",
            "Epoch 80/100\n",
            "1563/1563 [==============================] - 6s 4ms/step - loss: 2.7830 - accuracy: 0.2995 - val_loss: 4.1957 - val_accuracy: 0.1982\n",
            "Epoch 81/100\n",
            "1563/1563 [==============================] - 5s 3ms/step - loss: 2.7768 - accuracy: 0.2993 - val_loss: 4.2450 - val_accuracy: 0.1999\n",
            "Epoch 82/100\n",
            "1563/1563 [==============================] - 6s 4ms/step - loss: 2.7873 - accuracy: 0.3019 - val_loss: 4.1649 - val_accuracy: 0.2010\n",
            "Epoch 83/100\n",
            "1563/1563 [==============================] - 5s 3ms/step - loss: 2.7703 - accuracy: 0.3024 - val_loss: 4.1891 - val_accuracy: 0.2030\n",
            "Epoch 84/100\n",
            "1563/1563 [==============================] - 6s 4ms/step - loss: 2.7719 - accuracy: 0.3032 - val_loss: 4.1117 - val_accuracy: 0.1991\n",
            "Epoch 85/100\n",
            "1563/1563 [==============================] - 5s 3ms/step - loss: 2.7637 - accuracy: 0.3046 - val_loss: 4.3371 - val_accuracy: 0.1941\n",
            "Epoch 86/100\n",
            "1563/1563 [==============================] - 6s 4ms/step - loss: 2.7664 - accuracy: 0.3057 - val_loss: 4.3388 - val_accuracy: 0.1980\n",
            "Epoch 87/100\n",
            "1563/1563 [==============================] - 5s 3ms/step - loss: 2.7568 - accuracy: 0.3060 - val_loss: 4.3232 - val_accuracy: 0.1994\n",
            "Epoch 88/100\n",
            "1563/1563 [==============================] - 6s 4ms/step - loss: 2.7666 - accuracy: 0.3039 - val_loss: 4.3240 - val_accuracy: 0.1920\n",
            "Epoch 89/100\n",
            "1563/1563 [==============================] - 5s 3ms/step - loss: 2.7545 - accuracy: 0.3069 - val_loss: 4.1718 - val_accuracy: 0.1938\n",
            "Epoch 90/100\n",
            "1563/1563 [==============================] - 6s 4ms/step - loss: 2.7544 - accuracy: 0.3080 - val_loss: 4.2765 - val_accuracy: 0.2005\n",
            "Epoch 91/100\n",
            "1563/1563 [==============================] - 6s 4ms/step - loss: 2.7526 - accuracy: 0.3069 - val_loss: 4.2930 - val_accuracy: 0.1966\n",
            "Epoch 92/100\n",
            "1563/1563 [==============================] - 6s 4ms/step - loss: 2.7472 - accuracy: 0.3074 - val_loss: 4.5108 - val_accuracy: 0.1967\n",
            "Epoch 93/100\n",
            "1563/1563 [==============================] - 5s 3ms/step - loss: 2.7491 - accuracy: 0.3073 - val_loss: 4.2259 - val_accuracy: 0.1915\n",
            "Epoch 94/100\n",
            "1563/1563 [==============================] - 6s 4ms/step - loss: 2.7534 - accuracy: 0.3077 - val_loss: 4.3321 - val_accuracy: 0.2039\n",
            "Epoch 95/100\n",
            "1563/1563 [==============================] - 5s 3ms/step - loss: 2.7551 - accuracy: 0.3056 - val_loss: 4.2322 - val_accuracy: 0.1980\n",
            "Epoch 96/100\n",
            "1563/1563 [==============================] - 6s 4ms/step - loss: 2.7385 - accuracy: 0.3084 - val_loss: 4.4319 - val_accuracy: 0.1905\n",
            "Epoch 97/100\n",
            "1563/1563 [==============================] - 5s 3ms/step - loss: 2.7318 - accuracy: 0.3117 - val_loss: 4.2949 - val_accuracy: 0.1964\n",
            "Epoch 98/100\n",
            "1563/1563 [==============================] - 6s 4ms/step - loss: 2.7402 - accuracy: 0.3096 - val_loss: 4.2319 - val_accuracy: 0.1943\n",
            "Epoch 99/100\n",
            "1563/1563 [==============================] - 5s 3ms/step - loss: 2.7379 - accuracy: 0.3118 - val_loss: 4.1479 - val_accuracy: 0.1993\n",
            "Epoch 100/100\n",
            "1563/1563 [==============================] - 5s 3ms/step - loss: 2.7336 - accuracy: 0.3117 - val_loss: 4.4994 - val_accuracy: 0.1979\n"
          ]
        }
      ],
      "source": [
        "result = model.fit(X_train_final, y_train, verbose=1, epochs=100, validation_data=(X_test_final, y_test))"
      ]
    },
    {
      "cell_type": "code",
      "execution_count": 15,
      "id": "cde7f5da",
      "metadata": {
        "colab": {
          "base_uri": "https://localhost:8080/",
          "height": 472
        },
        "id": "cde7f5da",
        "outputId": "f220657e-8715-4450-d7da-057a67da31b9"
      },
      "outputs": [
        {
          "output_type": "display_data",
          "data": {
            "text/plain": [
              "<Figure size 640x480 with 1 Axes>"
            ],
            "image/png": "[encoded data removed]"
          },
          "metadata": {}
        }
      ],
      "source": [
        "plt.plot(result.history[\"loss\"])\n",
        "plt.plot(result.history[\"val_loss\"])\n",
        "plt.title(\"Model Loss\")\n",
        "plt.ylabel(\"Loss\")\n",
        "plt.xlabel(\"Epoch\")\n",
        "plt.legend([\"Train\", \"Test\"], loc=\"upper right\")\n",
        "plt.show()"
      ]
    },
    {
      "cell_type": "code",
      "execution_count": 16,
      "id": "ad47f0b5",
      "metadata": {
        "colab": {
          "base_uri": "https://localhost:8080/",
          "height": 472
        },
        "id": "ad47f0b5",
        "outputId": "0231ac38-692a-4c7f-bd15-a35d570cf08e"
      },
      "outputs": [
        {
          "output_type": "display_data",
          "data": {
            "text/plain": [
              "<Figure size 640x480 with 1 Axes>"
            ],
            "image/png": "[encoded data removed]"
          },
          "metadata": {}
        }
      ],
      "source": [
        "plt.plot(result.history[\"accuracy\"])\n",
        "plt.plot(result.history[\"val_accuracy\"])\n",
        "plt.title(\"Model Accuracy\")\n",
        "plt.ylabel(\"Accuuracy\")\n",
        "plt.xlabel(\"Epochs\")\n",
        "plt.legend([\"Train\", \"Test\"], loc=\"upper right\")\n",
        "plt.show()"
      ]
    },
    {
      "cell_type": "code",
      "execution_count": 17,
      "id": "5a50fe77",
      "metadata": {
        "id": "5a50fe77"
      },
      "outputs": [],
      "source": [
        "model.save(\"models/cifar100_classification_model_gpu.h5\")"
      ]
    },
    {
      "cell_type": "code",
      "execution_count": null,
      "id": "85b6f61d",
      "metadata": {
        "id": "85b6f61d"
      },
      "outputs": [],
      "source": []
    }
  ],
  "metadata": {
    "kernelspec": {
      "display_name": "Python 3 (ipykernel)",
      "language": "python",
      "name": "python3"
    },
    "language_info": {
      "codemirror_mode": {
        "name": "ipython",
        "version": 3
      },
      "file_extension": ".py",
      "mimetype": "text/x-python",
      "name": "python",
      "nbconvert_exporter": "python",
      "pygments_lexer": "ipython3",
      "version": "3.9.12"
    },
    "colab": {
      "provenance": [],
      "gpuType": "T4"
    },
    "accelerator": "GPU",
    "gpuClass": "standard"
  },
  "nbformat": 4,
  "nbformat_minor": 5
}